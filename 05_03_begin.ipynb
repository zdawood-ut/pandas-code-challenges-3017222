{
 "cells": [
  {
   "cell_type": "markdown",
   "id": "ee7e7699",
   "metadata": {},
   "source": [
    "# Grouping data"
   ]
  },
  {
   "cell_type": "code",
   "execution_count": 25,
   "id": "29452d05",
   "metadata": {},
   "outputs": [],
   "source": [
    "import pandas as pd"
   ]
  },
  {
   "cell_type": "code",
   "execution_count": 26,
   "id": "dc791129",
   "metadata": {},
   "outputs": [
    {
     "name": "stdout",
     "output_type": "stream",
     "text": [
      "<class 'pandas.core.frame.DataFrame'>\n",
      "RangeIndex: 2240 entries, 0 to 2239\n",
      "Data columns (total 29 columns):\n",
      " #   Column               Non-Null Count  Dtype  \n",
      "---  ------               --------------  -----  \n",
      " 0   ID                   2240 non-null   int64  \n",
      " 1   Year_Birth           2240 non-null   int64  \n",
      " 2   Education            2240 non-null   object \n",
      " 3   Marital_Status       2240 non-null   object \n",
      " 4   Income               2216 non-null   float64\n",
      " 5   Kidhome              2240 non-null   int64  \n",
      " 6   Teenhome             2240 non-null   int64  \n",
      " 7   Dt_Customer          2240 non-null   object \n",
      " 8   Recency              2240 non-null   int64  \n",
      " 9   MntWines             2240 non-null   int64  \n",
      " 10  MntFruits            2240 non-null   int64  \n",
      " 11  MntMeatProducts      2240 non-null   int64  \n",
      " 12  MntFishProducts      2240 non-null   int64  \n",
      " 13  MntSweetProducts     2240 non-null   int64  \n",
      " 14  MntGoldProds         2240 non-null   int64  \n",
      " 15  NumDealsPurchases    2240 non-null   int64  \n",
      " 16  NumWebPurchases      2240 non-null   int64  \n",
      " 17  NumCatalogPurchases  2240 non-null   int64  \n",
      " 18  NumStorePurchases    2240 non-null   int64  \n",
      " 19  NumWebVisitsMonth    2240 non-null   int64  \n",
      " 20  AcceptedCmp3         2240 non-null   int64  \n",
      " 21  AcceptedCmp4         2240 non-null   int64  \n",
      " 22  AcceptedCmp5         2240 non-null   int64  \n",
      " 23  AcceptedCmp1         2240 non-null   int64  \n",
      " 24  AcceptedCmp2         2240 non-null   int64  \n",
      " 25  Complain             2240 non-null   int64  \n",
      " 26  Z_CostContact        2240 non-null   int64  \n",
      " 27  Z_Revenue            2240 non-null   int64  \n",
      " 28  Response             2240 non-null   int64  \n",
      "dtypes: float64(1), int64(25), object(3)\n",
      "memory usage: 507.6+ KB\n"
     ]
    }
   ],
   "source": [
    "df = pd.read_csv(\"./data/marketing_campaign.csv\", sep='\\t')\n",
    "df.info()"
   ]
  },
  {
   "cell_type": "markdown",
   "id": "a39d6a11",
   "metadata": {},
   "source": [
    "## Average amount of each product bought by each group of customers"
   ]
  },
  {
   "cell_type": "code",
   "execution_count": 27,
   "id": "178450b4",
   "metadata": {},
   "outputs": [],
   "source": [
    "amt_bought = [\n",
    "    'MntWines',\n",
    "    'MntFruits',\n",
    "    'MntMeatProducts',\n",
    "    'MntFishProducts',\n",
    "    'MntSweetProducts',\n",
    "    'MntGoldProds'\n",
    "]"
   ]
  },
  {
   "cell_type": "code",
   "execution_count": 30,
   "id": "f886b74a",
   "metadata": {},
   "outputs": [
    {
     "data": {
      "application/vnd.microsoft.datawrangler.viewer.v0+json": {
       "columns": [
        {
         "name": "Marital_Status",
         "rawType": "object",
         "type": "string"
        },
        {
         "name": "MntWines",
         "rawType": "float64",
         "type": "float"
        },
        {
         "name": "MntFruits",
         "rawType": "float64",
         "type": "float"
        },
        {
         "name": "MntMeatProducts",
         "rawType": "float64",
         "type": "float"
        },
        {
         "name": "MntFishProducts",
         "rawType": "float64",
         "type": "float"
        },
        {
         "name": "MntSweetProducts",
         "rawType": "float64",
         "type": "float"
        },
        {
         "name": "MntGoldProds",
         "rawType": "float64",
         "type": "float"
        }
       ],
       "conversionMethod": "pd.DataFrame",
       "ref": "ac4bed39-4d84-48fc-91fb-65af1344feb8",
       "rows": [
        [
         "Absurd",
         "355.5",
         "84.5",
         "312.5",
         "205.5",
         "30.5",
         "204.0"
        ],
        [
         "Alone",
         "184.66666666666666",
         "4.0",
         "26.333333333333332",
         "7.666666666666667",
         "7.0",
         "27.0"
        ],
        [
         "Divorced",
         "324.8448275862069",
         "27.426724137931036",
         "150.20689655172413",
         "35.043103448275865",
         "26.81896551724138",
         "46.28879310344828"
        ],
        [
         "Married",
         "299.4803240740741",
         "25.734953703703702",
         "160.68171296296296",
         "35.38078703703704",
         "26.70138888888889",
         "42.822916666666664"
        ],
        [
         "Single",
         "288.33125",
         "26.835416666666667",
         "182.10833333333332",
         "38.21666666666667",
         "27.2625",
         "43.729166666666664"
        ],
        [
         "Together",
         "306.82586206896553",
         "25.35",
         "168.10344827586206",
         "38.991379310344826",
         "26.122413793103448",
         "42.994827586206895"
        ],
        [
         "Widow",
         "369.27272727272725",
         "33.09090909090909",
         "189.28571428571428",
         "51.38961038961039",
         "39.01298701298701",
         "56.76623376623377"
        ],
        [
         "YOLO",
         "322.0",
         "3.0",
         "50.0",
         "4.0",
         "3.0",
         "42.0"
        ]
       ],
       "shape": {
        "columns": 6,
        "rows": 8
       }
      },
      "text/html": [
       "<div>\n",
       "<style scoped>\n",
       "    .dataframe tbody tr th:only-of-type {\n",
       "        vertical-align: middle;\n",
       "    }\n",
       "\n",
       "    .dataframe tbody tr th {\n",
       "        vertical-align: top;\n",
       "    }\n",
       "\n",
       "    .dataframe thead th {\n",
       "        text-align: right;\n",
       "    }\n",
       "</style>\n",
       "<table border=\"1\" class=\"dataframe\">\n",
       "  <thead>\n",
       "    <tr style=\"text-align: right;\">\n",
       "      <th></th>\n",
       "      <th>MntWines</th>\n",
       "      <th>MntFruits</th>\n",
       "      <th>MntMeatProducts</th>\n",
       "      <th>MntFishProducts</th>\n",
       "      <th>MntSweetProducts</th>\n",
       "      <th>MntGoldProds</th>\n",
       "    </tr>\n",
       "    <tr>\n",
       "      <th>Marital_Status</th>\n",
       "      <th></th>\n",
       "      <th></th>\n",
       "      <th></th>\n",
       "      <th></th>\n",
       "      <th></th>\n",
       "      <th></th>\n",
       "    </tr>\n",
       "  </thead>\n",
       "  <tbody>\n",
       "    <tr>\n",
       "      <th>Absurd</th>\n",
       "      <td>355.500000</td>\n",
       "      <td>84.500000</td>\n",
       "      <td>312.500000</td>\n",
       "      <td>205.500000</td>\n",
       "      <td>30.500000</td>\n",
       "      <td>204.000000</td>\n",
       "    </tr>\n",
       "    <tr>\n",
       "      <th>Alone</th>\n",
       "      <td>184.666667</td>\n",
       "      <td>4.000000</td>\n",
       "      <td>26.333333</td>\n",
       "      <td>7.666667</td>\n",
       "      <td>7.000000</td>\n",
       "      <td>27.000000</td>\n",
       "    </tr>\n",
       "    <tr>\n",
       "      <th>Divorced</th>\n",
       "      <td>324.844828</td>\n",
       "      <td>27.426724</td>\n",
       "      <td>150.206897</td>\n",
       "      <td>35.043103</td>\n",
       "      <td>26.818966</td>\n",
       "      <td>46.288793</td>\n",
       "    </tr>\n",
       "    <tr>\n",
       "      <th>Married</th>\n",
       "      <td>299.480324</td>\n",
       "      <td>25.734954</td>\n",
       "      <td>160.681713</td>\n",
       "      <td>35.380787</td>\n",
       "      <td>26.701389</td>\n",
       "      <td>42.822917</td>\n",
       "    </tr>\n",
       "    <tr>\n",
       "      <th>Single</th>\n",
       "      <td>288.331250</td>\n",
       "      <td>26.835417</td>\n",
       "      <td>182.108333</td>\n",
       "      <td>38.216667</td>\n",
       "      <td>27.262500</td>\n",
       "      <td>43.729167</td>\n",
       "    </tr>\n",
       "    <tr>\n",
       "      <th>Together</th>\n",
       "      <td>306.825862</td>\n",
       "      <td>25.350000</td>\n",
       "      <td>168.103448</td>\n",
       "      <td>38.991379</td>\n",
       "      <td>26.122414</td>\n",
       "      <td>42.994828</td>\n",
       "    </tr>\n",
       "    <tr>\n",
       "      <th>Widow</th>\n",
       "      <td>369.272727</td>\n",
       "      <td>33.090909</td>\n",
       "      <td>189.285714</td>\n",
       "      <td>51.389610</td>\n",
       "      <td>39.012987</td>\n",
       "      <td>56.766234</td>\n",
       "    </tr>\n",
       "    <tr>\n",
       "      <th>YOLO</th>\n",
       "      <td>322.000000</td>\n",
       "      <td>3.000000</td>\n",
       "      <td>50.000000</td>\n",
       "      <td>4.000000</td>\n",
       "      <td>3.000000</td>\n",
       "      <td>42.000000</td>\n",
       "    </tr>\n",
       "  </tbody>\n",
       "</table>\n",
       "</div>"
      ],
      "text/plain": [
       "                  MntWines  MntFruits  MntMeatProducts  MntFishProducts  \\\n",
       "Marital_Status                                                            \n",
       "Absurd          355.500000  84.500000       312.500000       205.500000   \n",
       "Alone           184.666667   4.000000        26.333333         7.666667   \n",
       "Divorced        324.844828  27.426724       150.206897        35.043103   \n",
       "Married         299.480324  25.734954       160.681713        35.380787   \n",
       "Single          288.331250  26.835417       182.108333        38.216667   \n",
       "Together        306.825862  25.350000       168.103448        38.991379   \n",
       "Widow           369.272727  33.090909       189.285714        51.389610   \n",
       "YOLO            322.000000   3.000000        50.000000         4.000000   \n",
       "\n",
       "                MntSweetProducts  MntGoldProds  \n",
       "Marital_Status                                  \n",
       "Absurd                 30.500000    204.000000  \n",
       "Alone                   7.000000     27.000000  \n",
       "Divorced               26.818966     46.288793  \n",
       "Married                26.701389     42.822917  \n",
       "Single                 27.262500     43.729167  \n",
       "Together               26.122414     42.994828  \n",
       "Widow                  39.012987     56.766234  \n",
       "YOLO                    3.000000     42.000000  "
      ]
     },
     "execution_count": 30,
     "metadata": {},
     "output_type": "execute_result"
    }
   ],
   "source": [
    "df.groupby(['Marital_Status'])[amt_bought].mean()"
   ]
  },
  {
   "cell_type": "markdown",
   "id": "e628ab39",
   "metadata": {},
   "source": [
    "## Grouping by multiple columns"
   ]
  },
  {
   "cell_type": "code",
   "execution_count": 31,
   "id": "93206f7c",
   "metadata": {},
   "outputs": [
    {
     "data": {
      "application/vnd.microsoft.datawrangler.viewer.v0+json": {
       "columns": [
        {
         "name": "('Education', 'Marital_Status')",
         "rawType": "object",
         "type": "unknown"
        },
        {
         "name": "median",
         "rawType": "float64",
         "type": "float"
        },
        {
         "name": "mean",
         "rawType": "float64",
         "type": "float"
        }
       ],
       "conversionMethod": "pd.DataFrame",
       "ref": "7c073810-fd6e-4243-834c-9180328eee0f",
       "rows": [
        [
         "('2n Cycle', 'Divorced')",
         "49118.0",
         "49395.13043478261"
        ],
        [
         "('2n Cycle', 'Married')",
         "46462.5",
         "46201.1"
        ],
        [
         "('2n Cycle', 'Single')",
         "48668.5",
         "53673.944444444445"
        ],
        [
         "('2n Cycle', 'Together')",
         "45774.0",
         "44736.41071428572"
        ],
        [
         "('2n Cycle', 'Widow')",
         "47682.0",
         "51392.2"
        ],
        [
         "('Basic', 'Divorced')",
         "9548.0",
         "9548.0"
        ],
        [
         "('Basic', 'Married')",
         "22352.0",
         "21960.5"
        ],
        [
         "('Basic', 'Single')",
         "16383.0",
         "18238.666666666668"
        ],
        [
         "('Basic', 'Together')",
         "23179.0",
         "21240.071428571428"
        ],
        [
         "('Basic', 'Widow')",
         "22123.0",
         "22123.0"
        ],
        [
         "('Graduation', 'Absurd')",
         "79244.0",
         "79244.0"
        ],
        [
         "('Graduation', 'Alone')",
         "34176.0",
         "34176.0"
        ],
        [
         "('Graduation', 'Divorced')",
         "55635.0",
         "54526.04201680672"
        ],
        [
         "('Graduation', 'Married')",
         "50737.0",
         "50800.25874125874"
        ],
        [
         "('Graduation', 'Single')",
         "49973.5",
         "51322.18292682927"
        ],
        [
         "('Graduation', 'Together')",
         "53977.0",
         "55758.480701754386"
        ],
        [
         "('Graduation', 'Widow')",
         "58275.0",
         "54976.65714285714"
        ],
        [
         "('Master', 'Absurd')",
         "65487.0",
         "65487.0"
        ],
        [
         "('Master', 'Alone')",
         "61331.0",
         "61331.0"
        ],
        [
         "('Master', 'Divorced')",
         "49476.0",
         "50331.94594594595"
        ],
        [
         "('Master', 'Married')",
         "53088.5",
         "53286.02898550725"
        ],
        [
         "('Master', 'Single')",
         "49494.0",
         "53530.56"
        ],
        [
         "('Master', 'Together')",
         "49736.0",
         "52109.009803921566"
        ],
        [
         "('Master', 'Widow')",
         "51529.0",
         "58401.545454545456"
        ],
        [
         "('PhD', 'Alone')",
         "35860.0",
         "35860.0"
        ],
        [
         "('PhD', 'Divorced')",
         "50613.5",
         "53096.61538461538"
        ],
        [
         "('PhD', 'Married')",
         "57081.5",
         "58138.03157894737"
        ],
        [
         "('PhD', 'Single')",
         "50198.0",
         "53314.614583333336"
        ],
        [
         "('PhD', 'Together')",
         "56756.0",
         "56041.4224137931"
        ],
        [
         "('PhD', 'Widow')",
         "57032.0",
         "60288.083333333336"
        ],
        [
         "('PhD', 'YOLO')",
         "48432.0",
         "48432.0"
        ]
       ],
       "shape": {
        "columns": 2,
        "rows": 31
       }
      },
      "text/html": [
       "<div>\n",
       "<style scoped>\n",
       "    .dataframe tbody tr th:only-of-type {\n",
       "        vertical-align: middle;\n",
       "    }\n",
       "\n",
       "    .dataframe tbody tr th {\n",
       "        vertical-align: top;\n",
       "    }\n",
       "\n",
       "    .dataframe thead th {\n",
       "        text-align: right;\n",
       "    }\n",
       "</style>\n",
       "<table border=\"1\" class=\"dataframe\">\n",
       "  <thead>\n",
       "    <tr style=\"text-align: right;\">\n",
       "      <th></th>\n",
       "      <th></th>\n",
       "      <th>median</th>\n",
       "      <th>mean</th>\n",
       "    </tr>\n",
       "    <tr>\n",
       "      <th>Education</th>\n",
       "      <th>Marital_Status</th>\n",
       "      <th></th>\n",
       "      <th></th>\n",
       "    </tr>\n",
       "  </thead>\n",
       "  <tbody>\n",
       "    <tr>\n",
       "      <th rowspan=\"5\" valign=\"top\">2n Cycle</th>\n",
       "      <th>Divorced</th>\n",
       "      <td>49118.0</td>\n",
       "      <td>49395.130435</td>\n",
       "    </tr>\n",
       "    <tr>\n",
       "      <th>Married</th>\n",
       "      <td>46462.5</td>\n",
       "      <td>46201.100000</td>\n",
       "    </tr>\n",
       "    <tr>\n",
       "      <th>Single</th>\n",
       "      <td>48668.5</td>\n",
       "      <td>53673.944444</td>\n",
       "    </tr>\n",
       "    <tr>\n",
       "      <th>Together</th>\n",
       "      <td>45774.0</td>\n",
       "      <td>44736.410714</td>\n",
       "    </tr>\n",
       "    <tr>\n",
       "      <th>Widow</th>\n",
       "      <td>47682.0</td>\n",
       "      <td>51392.200000</td>\n",
       "    </tr>\n",
       "    <tr>\n",
       "      <th rowspan=\"5\" valign=\"top\">Basic</th>\n",
       "      <th>Divorced</th>\n",
       "      <td>9548.0</td>\n",
       "      <td>9548.000000</td>\n",
       "    </tr>\n",
       "    <tr>\n",
       "      <th>Married</th>\n",
       "      <td>22352.0</td>\n",
       "      <td>21960.500000</td>\n",
       "    </tr>\n",
       "    <tr>\n",
       "      <th>Single</th>\n",
       "      <td>16383.0</td>\n",
       "      <td>18238.666667</td>\n",
       "    </tr>\n",
       "    <tr>\n",
       "      <th>Together</th>\n",
       "      <td>23179.0</td>\n",
       "      <td>21240.071429</td>\n",
       "    </tr>\n",
       "    <tr>\n",
       "      <th>Widow</th>\n",
       "      <td>22123.0</td>\n",
       "      <td>22123.000000</td>\n",
       "    </tr>\n",
       "    <tr>\n",
       "      <th rowspan=\"7\" valign=\"top\">Graduation</th>\n",
       "      <th>Absurd</th>\n",
       "      <td>79244.0</td>\n",
       "      <td>79244.000000</td>\n",
       "    </tr>\n",
       "    <tr>\n",
       "      <th>Alone</th>\n",
       "      <td>34176.0</td>\n",
       "      <td>34176.000000</td>\n",
       "    </tr>\n",
       "    <tr>\n",
       "      <th>Divorced</th>\n",
       "      <td>55635.0</td>\n",
       "      <td>54526.042017</td>\n",
       "    </tr>\n",
       "    <tr>\n",
       "      <th>Married</th>\n",
       "      <td>50737.0</td>\n",
       "      <td>50800.258741</td>\n",
       "    </tr>\n",
       "    <tr>\n",
       "      <th>Single</th>\n",
       "      <td>49973.5</td>\n",
       "      <td>51322.182927</td>\n",
       "    </tr>\n",
       "    <tr>\n",
       "      <th>Together</th>\n",
       "      <td>53977.0</td>\n",
       "      <td>55758.480702</td>\n",
       "    </tr>\n",
       "    <tr>\n",
       "      <th>Widow</th>\n",
       "      <td>58275.0</td>\n",
       "      <td>54976.657143</td>\n",
       "    </tr>\n",
       "    <tr>\n",
       "      <th rowspan=\"7\" valign=\"top\">Master</th>\n",
       "      <th>Absurd</th>\n",
       "      <td>65487.0</td>\n",
       "      <td>65487.000000</td>\n",
       "    </tr>\n",
       "    <tr>\n",
       "      <th>Alone</th>\n",
       "      <td>61331.0</td>\n",
       "      <td>61331.000000</td>\n",
       "    </tr>\n",
       "    <tr>\n",
       "      <th>Divorced</th>\n",
       "      <td>49476.0</td>\n",
       "      <td>50331.945946</td>\n",
       "    </tr>\n",
       "    <tr>\n",
       "      <th>Married</th>\n",
       "      <td>53088.5</td>\n",
       "      <td>53286.028986</td>\n",
       "    </tr>\n",
       "    <tr>\n",
       "      <th>Single</th>\n",
       "      <td>49494.0</td>\n",
       "      <td>53530.560000</td>\n",
       "    </tr>\n",
       "    <tr>\n",
       "      <th>Together</th>\n",
       "      <td>49736.0</td>\n",
       "      <td>52109.009804</td>\n",
       "    </tr>\n",
       "    <tr>\n",
       "      <th>Widow</th>\n",
       "      <td>51529.0</td>\n",
       "      <td>58401.545455</td>\n",
       "    </tr>\n",
       "    <tr>\n",
       "      <th rowspan=\"7\" valign=\"top\">PhD</th>\n",
       "      <th>Alone</th>\n",
       "      <td>35860.0</td>\n",
       "      <td>35860.000000</td>\n",
       "    </tr>\n",
       "    <tr>\n",
       "      <th>Divorced</th>\n",
       "      <td>50613.5</td>\n",
       "      <td>53096.615385</td>\n",
       "    </tr>\n",
       "    <tr>\n",
       "      <th>Married</th>\n",
       "      <td>57081.5</td>\n",
       "      <td>58138.031579</td>\n",
       "    </tr>\n",
       "    <tr>\n",
       "      <th>Single</th>\n",
       "      <td>50198.0</td>\n",
       "      <td>53314.614583</td>\n",
       "    </tr>\n",
       "    <tr>\n",
       "      <th>Together</th>\n",
       "      <td>56756.0</td>\n",
       "      <td>56041.422414</td>\n",
       "    </tr>\n",
       "    <tr>\n",
       "      <th>Widow</th>\n",
       "      <td>57032.0</td>\n",
       "      <td>60288.083333</td>\n",
       "    </tr>\n",
       "    <tr>\n",
       "      <th>YOLO</th>\n",
       "      <td>48432.0</td>\n",
       "      <td>48432.000000</td>\n",
       "    </tr>\n",
       "  </tbody>\n",
       "</table>\n",
       "</div>"
      ],
      "text/plain": [
       "                            median          mean\n",
       "Education  Marital_Status                       \n",
       "2n Cycle   Divorced        49118.0  49395.130435\n",
       "           Married         46462.5  46201.100000\n",
       "           Single          48668.5  53673.944444\n",
       "           Together        45774.0  44736.410714\n",
       "           Widow           47682.0  51392.200000\n",
       "Basic      Divorced         9548.0   9548.000000\n",
       "           Married         22352.0  21960.500000\n",
       "           Single          16383.0  18238.666667\n",
       "           Together        23179.0  21240.071429\n",
       "           Widow           22123.0  22123.000000\n",
       "Graduation Absurd          79244.0  79244.000000\n",
       "           Alone           34176.0  34176.000000\n",
       "           Divorced        55635.0  54526.042017\n",
       "           Married         50737.0  50800.258741\n",
       "           Single          49973.5  51322.182927\n",
       "           Together        53977.0  55758.480702\n",
       "           Widow           58275.0  54976.657143\n",
       "Master     Absurd          65487.0  65487.000000\n",
       "           Alone           61331.0  61331.000000\n",
       "           Divorced        49476.0  50331.945946\n",
       "           Married         53088.5  53286.028986\n",
       "           Single          49494.0  53530.560000\n",
       "           Together        49736.0  52109.009804\n",
       "           Widow           51529.0  58401.545455\n",
       "PhD        Alone           35860.0  35860.000000\n",
       "           Divorced        50613.5  53096.615385\n",
       "           Married         57081.5  58138.031579\n",
       "           Single          50198.0  53314.614583\n",
       "           Together        56756.0  56041.422414\n",
       "           Widow           57032.0  60288.083333\n",
       "           YOLO            48432.0  48432.000000"
      ]
     },
     "execution_count": 31,
     "metadata": {},
     "output_type": "execute_result"
    }
   ],
   "source": [
    "df.groupby(['Education', 'Marital_Status'])['Income'].agg(['median', 'mean'])"
   ]
  },
  {
   "cell_type": "markdown",
   "id": "bdd1ea6d",
   "metadata": {},
   "source": [
    "## Applying a custom aggregate function"
   ]
  },
  {
   "cell_type": "code",
   "execution_count": 67,
   "id": "9e726e1b",
   "metadata": {},
   "outputs": [],
   "source": [
    "purchase_columns = ['NumDealsPurchases', 'NumWebPurchases', 'NumCatalogPurchases', 'NumStorePurchases']\n"
   ]
  },
  {
   "cell_type": "code",
   "execution_count": 68,
   "id": "d19009a8",
   "metadata": {},
   "outputs": [],
   "source": [
    "def top(df,n=5,column='NumWebPurchases'):\n",
    "    \n",
    "    return df.sort_values(by=column)[-n:]\n"
   ]
  },
  {
   "cell_type": "code",
   "execution_count": 72,
   "id": "a898789e",
   "metadata": {},
   "outputs": [
    {
     "data": {
      "application/vnd.microsoft.datawrangler.viewer.v0+json": {
       "columns": [
        {
         "name": "('Education', None)",
         "rawType": "object",
         "type": "unknown"
        },
        {
         "name": "NumDealsPurchases",
         "rawType": "int64",
         "type": "integer"
        },
        {
         "name": "NumWebPurchases",
         "rawType": "int64",
         "type": "integer"
        },
        {
         "name": "NumCatalogPurchases",
         "rawType": "int64",
         "type": "integer"
        },
        {
         "name": "NumStorePurchases",
         "rawType": "int64",
         "type": "integer"
        }
       ],
       "conversionMethod": "pd.DataFrame",
       "ref": "c755bc1f-a554-4b90-8a6c-6b8a0b533169",
       "rows": [
        [
         "('2n Cycle', np.int64(67))",
         "1",
         "11",
         "10",
         "10"
        ],
        [
         "('2n Cycle', np.int64(1507))",
         "6",
         "11",
         "8",
         "5"
        ],
        [
         "('2n Cycle', np.int64(2171))",
         "1",
         "11",
         "3",
         "12"
        ],
        [
         "('2n Cycle', np.int64(1119))",
         "5",
         "11",
         "1",
         "6"
        ],
        [
         "('2n Cycle', np.int64(797))",
         "3",
         "11",
         "4",
         "8"
        ],
        [
         "('Basic', np.int64(1324))",
         "2",
         "3",
         "0",
         "3"
        ],
        [
         "('Basic', np.int64(1220))",
         "3",
         "3",
         "1",
         "3"
        ],
        [
         "('Basic', np.int64(1284))",
         "2",
         "4",
         "2",
         "5"
        ],
        [
         "('Basic', np.int64(502))",
         "1",
         "4",
         "1",
         "3"
        ],
        [
         "('Basic', np.int64(2013))",
         "6",
         "11",
         "2",
         "8"
        ],
        [
         "('Graduation', np.int64(924))",
         "1",
         "11",
         "4",
         "10"
        ],
        [
         "('Graduation', np.int64(219))",
         "2",
         "11",
         "4",
         "11"
        ],
        [
         "('Graduation', np.int64(681))",
         "1",
         "11",
         "5",
         "13"
        ],
        [
         "('Graduation', np.int64(1975))",
         "0",
         "25",
         "0",
         "0"
        ],
        [
         "('Graduation', np.int64(27))",
         "0",
         "27",
         "0",
         "0"
        ],
        [
         "('Master', np.int64(992))",
         "5",
         "10",
         "1",
         "6"
        ],
        [
         "('Master', np.int64(2028))",
         "4",
         "10",
         "5",
         "7"
        ],
        [
         "('Master', np.int64(131))",
         "5",
         "11",
         "1",
         "6"
        ],
        [
         "('Master', np.int64(18))",
         "2",
         "11",
         "4",
         "9"
        ],
        [
         "('Master', np.int64(1539))",
         "3",
         "11",
         "2",
         "12"
        ],
        [
         "('PhD', np.int64(1937))",
         "3",
         "11",
         "2",
         "8"
        ],
        [
         "('PhD', np.int64(175))",
         "1",
         "11",
         "8",
         "8"
        ],
        [
         "('PhD', np.int64(1568))",
         "5",
         "11",
         "1",
         "6"
        ],
        [
         "('PhD', np.int64(1806))",
         "0",
         "23",
         "1",
         "1"
        ],
        [
         "('PhD', np.int64(1898))",
         "0",
         "27",
         "0",
         "0"
        ]
       ],
       "shape": {
        "columns": 4,
        "rows": 25
       }
      },
      "text/html": [
       "<div>\n",
       "<style scoped>\n",
       "    .dataframe tbody tr th:only-of-type {\n",
       "        vertical-align: middle;\n",
       "    }\n",
       "\n",
       "    .dataframe tbody tr th {\n",
       "        vertical-align: top;\n",
       "    }\n",
       "\n",
       "    .dataframe thead th {\n",
       "        text-align: right;\n",
       "    }\n",
       "</style>\n",
       "<table border=\"1\" class=\"dataframe\">\n",
       "  <thead>\n",
       "    <tr style=\"text-align: right;\">\n",
       "      <th></th>\n",
       "      <th></th>\n",
       "      <th>NumDealsPurchases</th>\n",
       "      <th>NumWebPurchases</th>\n",
       "      <th>NumCatalogPurchases</th>\n",
       "      <th>NumStorePurchases</th>\n",
       "    </tr>\n",
       "    <tr>\n",
       "      <th>Education</th>\n",
       "      <th></th>\n",
       "      <th></th>\n",
       "      <th></th>\n",
       "      <th></th>\n",
       "      <th></th>\n",
       "    </tr>\n",
       "  </thead>\n",
       "  <tbody>\n",
       "    <tr>\n",
       "      <th rowspan=\"5\" valign=\"top\">2n Cycle</th>\n",
       "      <th>67</th>\n",
       "      <td>1</td>\n",
       "      <td>11</td>\n",
       "      <td>10</td>\n",
       "      <td>10</td>\n",
       "    </tr>\n",
       "    <tr>\n",
       "      <th>1507</th>\n",
       "      <td>6</td>\n",
       "      <td>11</td>\n",
       "      <td>8</td>\n",
       "      <td>5</td>\n",
       "    </tr>\n",
       "    <tr>\n",
       "      <th>2171</th>\n",
       "      <td>1</td>\n",
       "      <td>11</td>\n",
       "      <td>3</td>\n",
       "      <td>12</td>\n",
       "    </tr>\n",
       "    <tr>\n",
       "      <th>1119</th>\n",
       "      <td>5</td>\n",
       "      <td>11</td>\n",
       "      <td>1</td>\n",
       "      <td>6</td>\n",
       "    </tr>\n",
       "    <tr>\n",
       "      <th>797</th>\n",
       "      <td>3</td>\n",
       "      <td>11</td>\n",
       "      <td>4</td>\n",
       "      <td>8</td>\n",
       "    </tr>\n",
       "    <tr>\n",
       "      <th rowspan=\"5\" valign=\"top\">Basic</th>\n",
       "      <th>1324</th>\n",
       "      <td>2</td>\n",
       "      <td>3</td>\n",
       "      <td>0</td>\n",
       "      <td>3</td>\n",
       "    </tr>\n",
       "    <tr>\n",
       "      <th>1220</th>\n",
       "      <td>3</td>\n",
       "      <td>3</td>\n",
       "      <td>1</td>\n",
       "      <td>3</td>\n",
       "    </tr>\n",
       "    <tr>\n",
       "      <th>1284</th>\n",
       "      <td>2</td>\n",
       "      <td>4</td>\n",
       "      <td>2</td>\n",
       "      <td>5</td>\n",
       "    </tr>\n",
       "    <tr>\n",
       "      <th>502</th>\n",
       "      <td>1</td>\n",
       "      <td>4</td>\n",
       "      <td>1</td>\n",
       "      <td>3</td>\n",
       "    </tr>\n",
       "    <tr>\n",
       "      <th>2013</th>\n",
       "      <td>6</td>\n",
       "      <td>11</td>\n",
       "      <td>2</td>\n",
       "      <td>8</td>\n",
       "    </tr>\n",
       "    <tr>\n",
       "      <th rowspan=\"5\" valign=\"top\">Graduation</th>\n",
       "      <th>924</th>\n",
       "      <td>1</td>\n",
       "      <td>11</td>\n",
       "      <td>4</td>\n",
       "      <td>10</td>\n",
       "    </tr>\n",
       "    <tr>\n",
       "      <th>219</th>\n",
       "      <td>2</td>\n",
       "      <td>11</td>\n",
       "      <td>4</td>\n",
       "      <td>11</td>\n",
       "    </tr>\n",
       "    <tr>\n",
       "      <th>681</th>\n",
       "      <td>1</td>\n",
       "      <td>11</td>\n",
       "      <td>5</td>\n",
       "      <td>13</td>\n",
       "    </tr>\n",
       "    <tr>\n",
       "      <th>1975</th>\n",
       "      <td>0</td>\n",
       "      <td>25</td>\n",
       "      <td>0</td>\n",
       "      <td>0</td>\n",
       "    </tr>\n",
       "    <tr>\n",
       "      <th>27</th>\n",
       "      <td>0</td>\n",
       "      <td>27</td>\n",
       "      <td>0</td>\n",
       "      <td>0</td>\n",
       "    </tr>\n",
       "    <tr>\n",
       "      <th rowspan=\"5\" valign=\"top\">Master</th>\n",
       "      <th>992</th>\n",
       "      <td>5</td>\n",
       "      <td>10</td>\n",
       "      <td>1</td>\n",
       "      <td>6</td>\n",
       "    </tr>\n",
       "    <tr>\n",
       "      <th>2028</th>\n",
       "      <td>4</td>\n",
       "      <td>10</td>\n",
       "      <td>5</td>\n",
       "      <td>7</td>\n",
       "    </tr>\n",
       "    <tr>\n",
       "      <th>131</th>\n",
       "      <td>5</td>\n",
       "      <td>11</td>\n",
       "      <td>1</td>\n",
       "      <td>6</td>\n",
       "    </tr>\n",
       "    <tr>\n",
       "      <th>18</th>\n",
       "      <td>2</td>\n",
       "      <td>11</td>\n",
       "      <td>4</td>\n",
       "      <td>9</td>\n",
       "    </tr>\n",
       "    <tr>\n",
       "      <th>1539</th>\n",
       "      <td>3</td>\n",
       "      <td>11</td>\n",
       "      <td>2</td>\n",
       "      <td>12</td>\n",
       "    </tr>\n",
       "    <tr>\n",
       "      <th rowspan=\"5\" valign=\"top\">PhD</th>\n",
       "      <th>1937</th>\n",
       "      <td>3</td>\n",
       "      <td>11</td>\n",
       "      <td>2</td>\n",
       "      <td>8</td>\n",
       "    </tr>\n",
       "    <tr>\n",
       "      <th>175</th>\n",
       "      <td>1</td>\n",
       "      <td>11</td>\n",
       "      <td>8</td>\n",
       "      <td>8</td>\n",
       "    </tr>\n",
       "    <tr>\n",
       "      <th>1568</th>\n",
       "      <td>5</td>\n",
       "      <td>11</td>\n",
       "      <td>1</td>\n",
       "      <td>6</td>\n",
       "    </tr>\n",
       "    <tr>\n",
       "      <th>1806</th>\n",
       "      <td>0</td>\n",
       "      <td>23</td>\n",
       "      <td>1</td>\n",
       "      <td>1</td>\n",
       "    </tr>\n",
       "    <tr>\n",
       "      <th>1898</th>\n",
       "      <td>0</td>\n",
       "      <td>27</td>\n",
       "      <td>0</td>\n",
       "      <td>0</td>\n",
       "    </tr>\n",
       "  </tbody>\n",
       "</table>\n",
       "</div>"
      ],
      "text/plain": [
       "                 NumDealsPurchases  NumWebPurchases  NumCatalogPurchases  \\\n",
       "Education                                                                  \n",
       "2n Cycle   67                    1               11                   10   \n",
       "           1507                  6               11                    8   \n",
       "           2171                  1               11                    3   \n",
       "           1119                  5               11                    1   \n",
       "           797                   3               11                    4   \n",
       "Basic      1324                  2                3                    0   \n",
       "           1220                  3                3                    1   \n",
       "           1284                  2                4                    2   \n",
       "           502                   1                4                    1   \n",
       "           2013                  6               11                    2   \n",
       "Graduation 924                   1               11                    4   \n",
       "           219                   2               11                    4   \n",
       "           681                   1               11                    5   \n",
       "           1975                  0               25                    0   \n",
       "           27                    0               27                    0   \n",
       "Master     992                   5               10                    1   \n",
       "           2028                  4               10                    5   \n",
       "           131                   5               11                    1   \n",
       "           18                    2               11                    4   \n",
       "           1539                  3               11                    2   \n",
       "PhD        1937                  3               11                    2   \n",
       "           175                   1               11                    8   \n",
       "           1568                  5               11                    1   \n",
       "           1806                  0               23                    1   \n",
       "           1898                  0               27                    0   \n",
       "\n",
       "                 NumStorePurchases  \n",
       "Education                           \n",
       "2n Cycle   67                   10  \n",
       "           1507                  5  \n",
       "           2171                 12  \n",
       "           1119                  6  \n",
       "           797                   8  \n",
       "Basic      1324                  3  \n",
       "           1220                  3  \n",
       "           1284                  5  \n",
       "           502                   3  \n",
       "           2013                  8  \n",
       "Graduation 924                  10  \n",
       "           219                  11  \n",
       "           681                  13  \n",
       "           1975                  0  \n",
       "           27                    0  \n",
       "Master     992                   6  \n",
       "           2028                  7  \n",
       "           131                   6  \n",
       "           18                    9  \n",
       "           1539                 12  \n",
       "PhD        1937                  8  \n",
       "           175                   8  \n",
       "           1568                  6  \n",
       "           1806                  1  \n",
       "           1898                  0  "
      ]
     },
     "execution_count": 72,
     "metadata": {},
     "output_type": "execute_result"
    }
   ],
   "source": [
    "df.groupby('Education')[purchase_columns].apply(top)"
   ]
  },
  {
   "cell_type": "code",
   "execution_count": null,
   "id": "e9d2e3a1",
   "metadata": {},
   "outputs": [],
   "source": []
  }
 ],
 "metadata": {
  "kernelspec": {
   "display_name": ".venv",
   "language": "python",
   "name": "python3"
  },
  "language_info": {
   "codemirror_mode": {
    "name": "ipython",
    "version": 3
   },
   "file_extension": ".py",
   "mimetype": "text/x-python",
   "name": "python",
   "nbconvert_exporter": "python",
   "pygments_lexer": "ipython3",
   "version": "3.10.15"
  }
 },
 "nbformat": 4,
 "nbformat_minor": 5
}
