{
 "cells": [
  {
   "cell_type": "markdown",
   "id": "ee7e7699",
   "metadata": {},
   "source": [
    "# Grouping data"
   ]
  },
  {
   "cell_type": "code",
   "execution_count": 3,
   "id": "29452d05",
   "metadata": {},
   "outputs": [],
   "source": [
    "import pandas as pd"
   ]
  },
  {
   "cell_type": "code",
   "execution_count": 4,
   "id": "dc791129",
   "metadata": {},
   "outputs": [
    {
     "name": "stdout",
     "output_type": "stream",
     "text": [
      "<class 'pandas.core.frame.DataFrame'>\n",
      "RangeIndex: 2240 entries, 0 to 2239\n",
      "Data columns (total 29 columns):\n",
      " #   Column               Non-Null Count  Dtype  \n",
      "---  ------               --------------  -----  \n",
      " 0   ID                   2240 non-null   int64  \n",
      " 1   Year_Birth           2240 non-null   int64  \n",
      " 2   Education            2240 non-null   object \n",
      " 3   Marital_Status       2240 non-null   object \n",
      " 4   Income               2216 non-null   float64\n",
      " 5   Kidhome              2240 non-null   int64  \n",
      " 6   Teenhome             2240 non-null   int64  \n",
      " 7   Dt_Customer          2240 non-null   object \n",
      " 8   Recency              2240 non-null   int64  \n",
      " 9   MntWines             2240 non-null   int64  \n",
      " 10  MntFruits            2240 non-null   int64  \n",
      " 11  MntMeatProducts      2240 non-null   int64  \n",
      " 12  MntFishProducts      2240 non-null   int64  \n",
      " 13  MntSweetProducts     2240 non-null   int64  \n",
      " 14  MntGoldProds         2240 non-null   int64  \n",
      " 15  NumDealsPurchases    2240 non-null   int64  \n",
      " 16  NumWebPurchases      2240 non-null   int64  \n",
      " 17  NumCatalogPurchases  2240 non-null   int64  \n",
      " 18  NumStorePurchases    2240 non-null   int64  \n",
      " 19  NumWebVisitsMonth    2240 non-null   int64  \n",
      " 20  AcceptedCmp3         2240 non-null   int64  \n",
      " 21  AcceptedCmp4         2240 non-null   int64  \n",
      " 22  AcceptedCmp5         2240 non-null   int64  \n",
      " 23  AcceptedCmp1         2240 non-null   int64  \n",
      " 24  AcceptedCmp2         2240 non-null   int64  \n",
      " 25  Complain             2240 non-null   int64  \n",
      " 26  Z_CostContact        2240 non-null   int64  \n",
      " 27  Z_Revenue            2240 non-null   int64  \n",
      " 28  Response             2240 non-null   int64  \n",
      "dtypes: float64(1), int64(25), object(3)\n",
      "memory usage: 507.6+ KB\n"
     ]
    }
   ],
   "source": [
    "df = pd.read_csv(\"./data/marketing_campaign.csv\", sep='\\t')\n",
    "df.info()"
   ]
  },
  {
   "cell_type": "markdown",
   "id": "a39d6a11",
   "metadata": {},
   "source": [
    "## Average amount of each product bought by each group of customers"
   ]
  },
  {
   "cell_type": "code",
   "execution_count": 5,
   "id": "178450b4",
   "metadata": {},
   "outputs": [],
   "source": [
    "amt_bought = [\n",
    "    'MntWines',\n",
    "    'MntFruits',\n",
    "    'MntMeatProducts',\n",
    "    'MntFishProducts',\n",
    "    'MntSweetProducts',\n",
    "    'MntGoldProds'\n",
    "]"
   ]
  },
  {
   "cell_type": "code",
   "execution_count": null,
   "id": "f886b74a",
   "metadata": {},
   "outputs": [
    {
     "data": {
      "application/vnd.microsoft.datawrangler.viewer.v0+json": {
       "columns": [
        {
         "name": "Marital_Status",
         "rawType": "object",
         "type": "string"
        },
        {
         "name": "MntWines",
         "rawType": "float64",
         "type": "float"
        },
        {
         "name": "MntFruits",
         "rawType": "float64",
         "type": "float"
        },
        {
         "name": "MntMeatProducts",
         "rawType": "float64",
         "type": "float"
        },
        {
         "name": "MntFishProducts",
         "rawType": "float64",
         "type": "float"
        },
        {
         "name": "MntSweetProducts",
         "rawType": "float64",
         "type": "float"
        },
        {
         "name": "MntGoldProds",
         "rawType": "float64",
         "type": "float"
        }
       ],
       "conversionMethod": "pd.DataFrame",
       "ref": "fc3a0b9f-ec68-439c-94c7-bd7cc194811e",
       "rows": [
        [
         "Absurd",
         "355.5",
         "84.5",
         "312.5",
         "205.5",
         "30.5",
         "204.0"
        ],
        [
         "Alone",
         "184.66666666666666",
         "4.0",
         "26.333333333333332",
         "7.666666666666667",
         "7.0",
         "27.0"
        ],
        [
         "Divorced",
         "324.8448275862069",
         "27.426724137931036",
         "150.20689655172413",
         "35.043103448275865",
         "26.81896551724138",
         "46.28879310344828"
        ],
        [
         "Married",
         "299.4803240740741",
         "25.734953703703702",
         "160.68171296296296",
         "35.38078703703704",
         "26.70138888888889",
         "42.822916666666664"
        ],
        [
         "Single",
         "288.33125",
         "26.835416666666667",
         "182.10833333333332",
         "38.21666666666667",
         "27.2625",
         "43.729166666666664"
        ],
        [
         "Together",
         "306.82586206896553",
         "25.35",
         "168.10344827586206",
         "38.991379310344826",
         "26.122413793103448",
         "42.994827586206895"
        ],
        [
         "Widow",
         "369.27272727272725",
         "33.09090909090909",
         "189.28571428571428",
         "51.38961038961039",
         "39.01298701298701",
         "56.76623376623377"
        ],
        [
         "YOLO",
         "322.0",
         "3.0",
         "50.0",
         "4.0",
         "3.0",
         "42.0"
        ]
       ],
       "shape": {
        "columns": 6,
        "rows": 8
       }
      },
      "text/html": [
       "<div>\n",
       "<style scoped>\n",
       "    .dataframe tbody tr th:only-of-type {\n",
       "        vertical-align: middle;\n",
       "    }\n",
       "\n",
       "    .dataframe tbody tr th {\n",
       "        vertical-align: top;\n",
       "    }\n",
       "\n",
       "    .dataframe thead th {\n",
       "        text-align: right;\n",
       "    }\n",
       "</style>\n",
       "<table border=\"1\" class=\"dataframe\">\n",
       "  <thead>\n",
       "    <tr style=\"text-align: right;\">\n",
       "      <th></th>\n",
       "      <th>MntWines</th>\n",
       "      <th>MntFruits</th>\n",
       "      <th>MntMeatProducts</th>\n",
       "      <th>MntFishProducts</th>\n",
       "      <th>MntSweetProducts</th>\n",
       "      <th>MntGoldProds</th>\n",
       "    </tr>\n",
       "    <tr>\n",
       "      <th>Marital_Status</th>\n",
       "      <th></th>\n",
       "      <th></th>\n",
       "      <th></th>\n",
       "      <th></th>\n",
       "      <th></th>\n",
       "      <th></th>\n",
       "    </tr>\n",
       "  </thead>\n",
       "  <tbody>\n",
       "    <tr>\n",
       "      <th>Absurd</th>\n",
       "      <td>355.500000</td>\n",
       "      <td>84.500000</td>\n",
       "      <td>312.500000</td>\n",
       "      <td>205.500000</td>\n",
       "      <td>30.500000</td>\n",
       "      <td>204.000000</td>\n",
       "    </tr>\n",
       "    <tr>\n",
       "      <th>Alone</th>\n",
       "      <td>184.666667</td>\n",
       "      <td>4.000000</td>\n",
       "      <td>26.333333</td>\n",
       "      <td>7.666667</td>\n",
       "      <td>7.000000</td>\n",
       "      <td>27.000000</td>\n",
       "    </tr>\n",
       "    <tr>\n",
       "      <th>Divorced</th>\n",
       "      <td>324.844828</td>\n",
       "      <td>27.426724</td>\n",
       "      <td>150.206897</td>\n",
       "      <td>35.043103</td>\n",
       "      <td>26.818966</td>\n",
       "      <td>46.288793</td>\n",
       "    </tr>\n",
       "    <tr>\n",
       "      <th>Married</th>\n",
       "      <td>299.480324</td>\n",
       "      <td>25.734954</td>\n",
       "      <td>160.681713</td>\n",
       "      <td>35.380787</td>\n",
       "      <td>26.701389</td>\n",
       "      <td>42.822917</td>\n",
       "    </tr>\n",
       "    <tr>\n",
       "      <th>Single</th>\n",
       "      <td>288.331250</td>\n",
       "      <td>26.835417</td>\n",
       "      <td>182.108333</td>\n",
       "      <td>38.216667</td>\n",
       "      <td>27.262500</td>\n",
       "      <td>43.729167</td>\n",
       "    </tr>\n",
       "    <tr>\n",
       "      <th>Together</th>\n",
       "      <td>306.825862</td>\n",
       "      <td>25.350000</td>\n",
       "      <td>168.103448</td>\n",
       "      <td>38.991379</td>\n",
       "      <td>26.122414</td>\n",
       "      <td>42.994828</td>\n",
       "    </tr>\n",
       "    <tr>\n",
       "      <th>Widow</th>\n",
       "      <td>369.272727</td>\n",
       "      <td>33.090909</td>\n",
       "      <td>189.285714</td>\n",
       "      <td>51.389610</td>\n",
       "      <td>39.012987</td>\n",
       "      <td>56.766234</td>\n",
       "    </tr>\n",
       "    <tr>\n",
       "      <th>YOLO</th>\n",
       "      <td>322.000000</td>\n",
       "      <td>3.000000</td>\n",
       "      <td>50.000000</td>\n",
       "      <td>4.000000</td>\n",
       "      <td>3.000000</td>\n",
       "      <td>42.000000</td>\n",
       "    </tr>\n",
       "  </tbody>\n",
       "</table>\n",
       "</div>"
      ],
      "text/plain": [
       "                  MntWines  MntFruits  MntMeatProducts  MntFishProducts  \\\n",
       "Marital_Status                                                            \n",
       "Absurd          355.500000  84.500000       312.500000       205.500000   \n",
       "Alone           184.666667   4.000000        26.333333         7.666667   \n",
       "Divorced        324.844828  27.426724       150.206897        35.043103   \n",
       "Married         299.480324  25.734954       160.681713        35.380787   \n",
       "Single          288.331250  26.835417       182.108333        38.216667   \n",
       "Together        306.825862  25.350000       168.103448        38.991379   \n",
       "Widow           369.272727  33.090909       189.285714        51.389610   \n",
       "YOLO            322.000000   3.000000        50.000000         4.000000   \n",
       "\n",
       "                MntSweetProducts  MntGoldProds  \n",
       "Marital_Status                                  \n",
       "Absurd                 30.500000    204.000000  \n",
       "Alone                   7.000000     27.000000  \n",
       "Divorced               26.818966     46.288793  \n",
       "Married                26.701389     42.822917  \n",
       "Single                 27.262500     43.729167  \n",
       "Together               26.122414     42.994828  \n",
       "Widow                  39.012987     56.766234  \n",
       "YOLO                    3.000000     42.000000  "
      ]
     },
     "execution_count": 8,
     "metadata": {},
     "output_type": "execute_result"
    }
   ],
   "source": [
    "df.groupby(['Marital_Status',])[amt_bought].mean()"
   ]
  },
  {
   "cell_type": "markdown",
   "id": "5e1c894c",
   "metadata": {},
   "source": [
    "## Grouping by multiple columns"
   ]
  },
  {
   "cell_type": "code",
   "execution_count": 10,
   "id": "d3bf469b",
   "metadata": {},
   "outputs": [
    {
     "data": {
      "application/vnd.microsoft.datawrangler.viewer.v0+json": {
       "columns": [
        {
         "name": "('Education', 'Marital_Status')",
         "rawType": "object",
         "type": "unknown"
        },
        {
         "name": "mean",
         "rawType": "float64",
         "type": "float"
        },
        {
         "name": "median",
         "rawType": "float64",
         "type": "float"
        }
       ],
       "conversionMethod": "pd.DataFrame",
       "ref": "25fb0254-6ac6-4baf-9592-82869288cff7",
       "rows": [
        [
         "('Graduation', 'Absurd')",
         "79244.0",
         "79244.0"
        ],
        [
         "('Master', 'Absurd')",
         "65487.0",
         "65487.0"
        ],
        [
         "('Master', 'Alone')",
         "61331.0",
         "61331.0"
        ],
        [
         "('PhD', 'Widow')",
         "60288.083333333336",
         "57032.0"
        ],
        [
         "('Master', 'Widow')",
         "58401.545454545456",
         "51529.0"
        ],
        [
         "('PhD', 'Married')",
         "58138.03157894737",
         "57081.5"
        ],
        [
         "('PhD', 'Together')",
         "56041.4224137931",
         "56756.0"
        ],
        [
         "('Graduation', 'Together')",
         "55758.480701754386",
         "53977.0"
        ],
        [
         "('Graduation', 'Widow')",
         "54976.65714285714",
         "58275.0"
        ],
        [
         "('Graduation', 'Divorced')",
         "54526.04201680672",
         "55635.0"
        ],
        [
         "('2n Cycle', 'Single')",
         "53673.944444444445",
         "48668.5"
        ],
        [
         "('Master', 'Single')",
         "53530.56",
         "49494.0"
        ],
        [
         "('PhD', 'Single')",
         "53314.614583333336",
         "50198.0"
        ],
        [
         "('Master', 'Married')",
         "53286.02898550725",
         "53088.5"
        ],
        [
         "('PhD', 'Divorced')",
         "53096.61538461538",
         "50613.5"
        ],
        [
         "('Master', 'Together')",
         "52109.009803921566",
         "49736.0"
        ],
        [
         "('2n Cycle', 'Widow')",
         "51392.2",
         "47682.0"
        ],
        [
         "('Graduation', 'Single')",
         "51322.18292682927",
         "49973.5"
        ],
        [
         "('Graduation', 'Married')",
         "50800.25874125874",
         "50737.0"
        ],
        [
         "('Master', 'Divorced')",
         "50331.94594594595",
         "49476.0"
        ],
        [
         "('2n Cycle', 'Divorced')",
         "49395.13043478261",
         "49118.0"
        ],
        [
         "('PhD', 'YOLO')",
         "48432.0",
         "48432.0"
        ],
        [
         "('2n Cycle', 'Married')",
         "46201.1",
         "46462.5"
        ],
        [
         "('2n Cycle', 'Together')",
         "44736.41071428572",
         "45774.0"
        ],
        [
         "('PhD', 'Alone')",
         "35860.0",
         "35860.0"
        ],
        [
         "('Graduation', 'Alone')",
         "34176.0",
         "34176.0"
        ],
        [
         "('Basic', 'Widow')",
         "22123.0",
         "22123.0"
        ],
        [
         "('Basic', 'Married')",
         "21960.5",
         "22352.0"
        ],
        [
         "('Basic', 'Together')",
         "21240.071428571428",
         "23179.0"
        ],
        [
         "('Basic', 'Single')",
         "18238.666666666668",
         "16383.0"
        ],
        [
         "('Basic', 'Divorced')",
         "9548.0",
         "9548.0"
        ]
       ],
       "shape": {
        "columns": 2,
        "rows": 31
       }
      },
      "text/html": [
       "<div>\n",
       "<style scoped>\n",
       "    .dataframe tbody tr th:only-of-type {\n",
       "        vertical-align: middle;\n",
       "    }\n",
       "\n",
       "    .dataframe tbody tr th {\n",
       "        vertical-align: top;\n",
       "    }\n",
       "\n",
       "    .dataframe thead th {\n",
       "        text-align: right;\n",
       "    }\n",
       "</style>\n",
       "<table border=\"1\" class=\"dataframe\">\n",
       "  <thead>\n",
       "    <tr style=\"text-align: right;\">\n",
       "      <th></th>\n",
       "      <th></th>\n",
       "      <th>mean</th>\n",
       "      <th>median</th>\n",
       "    </tr>\n",
       "    <tr>\n",
       "      <th>Education</th>\n",
       "      <th>Marital_Status</th>\n",
       "      <th></th>\n",
       "      <th></th>\n",
       "    </tr>\n",
       "  </thead>\n",
       "  <tbody>\n",
       "    <tr>\n",
       "      <th>Graduation</th>\n",
       "      <th>Absurd</th>\n",
       "      <td>79244.000000</td>\n",
       "      <td>79244.0</td>\n",
       "    </tr>\n",
       "    <tr>\n",
       "      <th rowspan=\"2\" valign=\"top\">Master</th>\n",
       "      <th>Absurd</th>\n",
       "      <td>65487.000000</td>\n",
       "      <td>65487.0</td>\n",
       "    </tr>\n",
       "    <tr>\n",
       "      <th>Alone</th>\n",
       "      <td>61331.000000</td>\n",
       "      <td>61331.0</td>\n",
       "    </tr>\n",
       "    <tr>\n",
       "      <th>PhD</th>\n",
       "      <th>Widow</th>\n",
       "      <td>60288.083333</td>\n",
       "      <td>57032.0</td>\n",
       "    </tr>\n",
       "    <tr>\n",
       "      <th>Master</th>\n",
       "      <th>Widow</th>\n",
       "      <td>58401.545455</td>\n",
       "      <td>51529.0</td>\n",
       "    </tr>\n",
       "    <tr>\n",
       "      <th rowspan=\"2\" valign=\"top\">PhD</th>\n",
       "      <th>Married</th>\n",
       "      <td>58138.031579</td>\n",
       "      <td>57081.5</td>\n",
       "    </tr>\n",
       "    <tr>\n",
       "      <th>Together</th>\n",
       "      <td>56041.422414</td>\n",
       "      <td>56756.0</td>\n",
       "    </tr>\n",
       "    <tr>\n",
       "      <th rowspan=\"3\" valign=\"top\">Graduation</th>\n",
       "      <th>Together</th>\n",
       "      <td>55758.480702</td>\n",
       "      <td>53977.0</td>\n",
       "    </tr>\n",
       "    <tr>\n",
       "      <th>Widow</th>\n",
       "      <td>54976.657143</td>\n",
       "      <td>58275.0</td>\n",
       "    </tr>\n",
       "    <tr>\n",
       "      <th>Divorced</th>\n",
       "      <td>54526.042017</td>\n",
       "      <td>55635.0</td>\n",
       "    </tr>\n",
       "    <tr>\n",
       "      <th>2n Cycle</th>\n",
       "      <th>Single</th>\n",
       "      <td>53673.944444</td>\n",
       "      <td>48668.5</td>\n",
       "    </tr>\n",
       "    <tr>\n",
       "      <th>Master</th>\n",
       "      <th>Single</th>\n",
       "      <td>53530.560000</td>\n",
       "      <td>49494.0</td>\n",
       "    </tr>\n",
       "    <tr>\n",
       "      <th>PhD</th>\n",
       "      <th>Single</th>\n",
       "      <td>53314.614583</td>\n",
       "      <td>50198.0</td>\n",
       "    </tr>\n",
       "    <tr>\n",
       "      <th>Master</th>\n",
       "      <th>Married</th>\n",
       "      <td>53286.028986</td>\n",
       "      <td>53088.5</td>\n",
       "    </tr>\n",
       "    <tr>\n",
       "      <th>PhD</th>\n",
       "      <th>Divorced</th>\n",
       "      <td>53096.615385</td>\n",
       "      <td>50613.5</td>\n",
       "    </tr>\n",
       "    <tr>\n",
       "      <th>Master</th>\n",
       "      <th>Together</th>\n",
       "      <td>52109.009804</td>\n",
       "      <td>49736.0</td>\n",
       "    </tr>\n",
       "    <tr>\n",
       "      <th>2n Cycle</th>\n",
       "      <th>Widow</th>\n",
       "      <td>51392.200000</td>\n",
       "      <td>47682.0</td>\n",
       "    </tr>\n",
       "    <tr>\n",
       "      <th rowspan=\"2\" valign=\"top\">Graduation</th>\n",
       "      <th>Single</th>\n",
       "      <td>51322.182927</td>\n",
       "      <td>49973.5</td>\n",
       "    </tr>\n",
       "    <tr>\n",
       "      <th>Married</th>\n",
       "      <td>50800.258741</td>\n",
       "      <td>50737.0</td>\n",
       "    </tr>\n",
       "    <tr>\n",
       "      <th>Master</th>\n",
       "      <th>Divorced</th>\n",
       "      <td>50331.945946</td>\n",
       "      <td>49476.0</td>\n",
       "    </tr>\n",
       "    <tr>\n",
       "      <th>2n Cycle</th>\n",
       "      <th>Divorced</th>\n",
       "      <td>49395.130435</td>\n",
       "      <td>49118.0</td>\n",
       "    </tr>\n",
       "    <tr>\n",
       "      <th>PhD</th>\n",
       "      <th>YOLO</th>\n",
       "      <td>48432.000000</td>\n",
       "      <td>48432.0</td>\n",
       "    </tr>\n",
       "    <tr>\n",
       "      <th rowspan=\"2\" valign=\"top\">2n Cycle</th>\n",
       "      <th>Married</th>\n",
       "      <td>46201.100000</td>\n",
       "      <td>46462.5</td>\n",
       "    </tr>\n",
       "    <tr>\n",
       "      <th>Together</th>\n",
       "      <td>44736.410714</td>\n",
       "      <td>45774.0</td>\n",
       "    </tr>\n",
       "    <tr>\n",
       "      <th>PhD</th>\n",
       "      <th>Alone</th>\n",
       "      <td>35860.000000</td>\n",
       "      <td>35860.0</td>\n",
       "    </tr>\n",
       "    <tr>\n",
       "      <th>Graduation</th>\n",
       "      <th>Alone</th>\n",
       "      <td>34176.000000</td>\n",
       "      <td>34176.0</td>\n",
       "    </tr>\n",
       "    <tr>\n",
       "      <th rowspan=\"5\" valign=\"top\">Basic</th>\n",
       "      <th>Widow</th>\n",
       "      <td>22123.000000</td>\n",
       "      <td>22123.0</td>\n",
       "    </tr>\n",
       "    <tr>\n",
       "      <th>Married</th>\n",
       "      <td>21960.500000</td>\n",
       "      <td>22352.0</td>\n",
       "    </tr>\n",
       "    <tr>\n",
       "      <th>Together</th>\n",
       "      <td>21240.071429</td>\n",
       "      <td>23179.0</td>\n",
       "    </tr>\n",
       "    <tr>\n",
       "      <th>Single</th>\n",
       "      <td>18238.666667</td>\n",
       "      <td>16383.0</td>\n",
       "    </tr>\n",
       "    <tr>\n",
       "      <th>Divorced</th>\n",
       "      <td>9548.000000</td>\n",
       "      <td>9548.0</td>\n",
       "    </tr>\n",
       "  </tbody>\n",
       "</table>\n",
       "</div>"
      ],
      "text/plain": [
       "                                   mean   median\n",
       "Education  Marital_Status                       \n",
       "Graduation Absurd          79244.000000  79244.0\n",
       "Master     Absurd          65487.000000  65487.0\n",
       "           Alone           61331.000000  61331.0\n",
       "PhD        Widow           60288.083333  57032.0\n",
       "Master     Widow           58401.545455  51529.0\n",
       "PhD        Married         58138.031579  57081.5\n",
       "           Together        56041.422414  56756.0\n",
       "Graduation Together        55758.480702  53977.0\n",
       "           Widow           54976.657143  58275.0\n",
       "           Divorced        54526.042017  55635.0\n",
       "2n Cycle   Single          53673.944444  48668.5\n",
       "Master     Single          53530.560000  49494.0\n",
       "PhD        Single          53314.614583  50198.0\n",
       "Master     Married         53286.028986  53088.5\n",
       "PhD        Divorced        53096.615385  50613.5\n",
       "Master     Together        52109.009804  49736.0\n",
       "2n Cycle   Widow           51392.200000  47682.0\n",
       "Graduation Single          51322.182927  49973.5\n",
       "           Married         50800.258741  50737.0\n",
       "Master     Divorced        50331.945946  49476.0\n",
       "2n Cycle   Divorced        49395.130435  49118.0\n",
       "PhD        YOLO            48432.000000  48432.0\n",
       "2n Cycle   Married         46201.100000  46462.5\n",
       "           Together        44736.410714  45774.0\n",
       "PhD        Alone           35860.000000  35860.0\n",
       "Graduation Alone           34176.000000  34176.0\n",
       "Basic      Widow           22123.000000  22123.0\n",
       "           Married         21960.500000  22352.0\n",
       "           Together        21240.071429  23179.0\n",
       "           Single          18238.666667  16383.0\n",
       "           Divorced         9548.000000   9548.0"
      ]
     },
     "execution_count": 10,
     "metadata": {},
     "output_type": "execute_result"
    }
   ],
   "source": [
    "df.groupby(['Education','Marital_Status'])['Income'].agg(['mean','median']).sort_values(by='mean', ascending=False)"
   ]
  }
 ],
 "metadata": {
  "kernelspec": {
   "display_name": ".venv",
   "language": "python",
   "name": "python3"
  },
  "language_info": {
   "codemirror_mode": {
    "name": "ipython",
    "version": 3
   },
   "file_extension": ".py",
   "mimetype": "text/x-python",
   "name": "python",
   "nbconvert_exporter": "python",
   "pygments_lexer": "ipython3",
   "version": "3.10.15"
  }
 },
 "nbformat": 4,
 "nbformat_minor": 5
}
