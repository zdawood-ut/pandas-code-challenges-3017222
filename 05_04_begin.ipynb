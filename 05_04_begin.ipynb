{
 "cells": [
  {
   "cell_type": "markdown",
   "id": "fba5b622",
   "metadata": {},
   "source": [
    "## Calculate yearly stock price returns"
   ]
  },
  {
   "cell_type": "code",
   "execution_count": 15,
   "id": "29452d05",
   "metadata": {},
   "outputs": [],
   "source": [
    "import pandas as pd"
   ]
  },
  {
   "cell_type": "code",
   "execution_count": 16,
   "id": "12cd9f70",
   "metadata": {},
   "outputs": [
    {
     "data": {
      "application/vnd.microsoft.datawrangler.viewer.v0+json": {
       "columns": [
        {
         "name": "index",
         "rawType": "datetime64[ns]",
         "type": "datetime"
        },
        {
         "name": "AAPL",
         "rawType": "float64",
         "type": "float"
        },
        {
         "name": "MSFT",
         "rawType": "float64",
         "type": "float"
        },
        {
         "name": "XOM",
         "rawType": "float64",
         "type": "float"
        },
        {
         "name": "SPX",
         "rawType": "float64",
         "type": "float"
        }
       ],
       "conversionMethod": "pd.DataFrame",
       "ref": "7675260e-428e-40e4-afe8-98de5f868304",
       "rows": [
        [
         "2003-01-02 00:00:00",
         "7.4",
         "21.11",
         "29.22",
         "909.03"
        ],
        [
         "2003-01-03 00:00:00",
         "7.45",
         "21.14",
         "29.24",
         "908.59"
        ],
        [
         "2003-01-06 00:00:00",
         "7.45",
         "21.52",
         "29.96",
         "929.01"
        ],
        [
         "2003-01-07 00:00:00",
         "7.43",
         "21.93",
         "28.95",
         "922.93"
        ],
        [
         "2003-01-08 00:00:00",
         "7.28",
         "21.31",
         "28.83",
         "909.93"
        ]
       ],
       "shape": {
        "columns": 4,
        "rows": 5
       }
      },
      "text/html": [
       "<div>\n",
       "<style scoped>\n",
       "    .dataframe tbody tr th:only-of-type {\n",
       "        vertical-align: middle;\n",
       "    }\n",
       "\n",
       "    .dataframe tbody tr th {\n",
       "        vertical-align: top;\n",
       "    }\n",
       "\n",
       "    .dataframe thead th {\n",
       "        text-align: right;\n",
       "    }\n",
       "</style>\n",
       "<table border=\"1\" class=\"dataframe\">\n",
       "  <thead>\n",
       "    <tr style=\"text-align: right;\">\n",
       "      <th></th>\n",
       "      <th>AAPL</th>\n",
       "      <th>MSFT</th>\n",
       "      <th>XOM</th>\n",
       "      <th>SPX</th>\n",
       "    </tr>\n",
       "  </thead>\n",
       "  <tbody>\n",
       "    <tr>\n",
       "      <th>2003-01-02</th>\n",
       "      <td>7.40</td>\n",
       "      <td>21.11</td>\n",
       "      <td>29.22</td>\n",
       "      <td>909.03</td>\n",
       "    </tr>\n",
       "    <tr>\n",
       "      <th>2003-01-03</th>\n",
       "      <td>7.45</td>\n",
       "      <td>21.14</td>\n",
       "      <td>29.24</td>\n",
       "      <td>908.59</td>\n",
       "    </tr>\n",
       "    <tr>\n",
       "      <th>2003-01-06</th>\n",
       "      <td>7.45</td>\n",
       "      <td>21.52</td>\n",
       "      <td>29.96</td>\n",
       "      <td>929.01</td>\n",
       "    </tr>\n",
       "    <tr>\n",
       "      <th>2003-01-07</th>\n",
       "      <td>7.43</td>\n",
       "      <td>21.93</td>\n",
       "      <td>28.95</td>\n",
       "      <td>922.93</td>\n",
       "    </tr>\n",
       "    <tr>\n",
       "      <th>2003-01-08</th>\n",
       "      <td>7.28</td>\n",
       "      <td>21.31</td>\n",
       "      <td>28.83</td>\n",
       "      <td>909.93</td>\n",
       "    </tr>\n",
       "  </tbody>\n",
       "</table>\n",
       "</div>"
      ],
      "text/plain": [
       "            AAPL   MSFT    XOM     SPX\n",
       "2003-01-02  7.40  21.11  29.22  909.03\n",
       "2003-01-03  7.45  21.14  29.24  908.59\n",
       "2003-01-06  7.45  21.52  29.96  929.01\n",
       "2003-01-07  7.43  21.93  28.95  922.93\n",
       "2003-01-08  7.28  21.31  28.83  909.93"
      ]
     },
     "execution_count": 16,
     "metadata": {},
     "output_type": "execute_result"
    }
   ],
   "source": [
    "stocks = pd.read_csv(\"./data/stock_data.csv\",\n",
    "                index_col=\"Unnamed: 0\",\n",
    "                parse_dates=True)\n",
    "\n",
    "stocks.head()"
   ]
  },
  {
   "cell_type": "code",
   "execution_count": 17,
   "id": "99bff4b2",
   "metadata": {},
   "outputs": [
    {
     "name": "stdout",
     "output_type": "stream",
     "text": [
      "<class 'pandas.core.frame.DataFrame'>\n",
      "DatetimeIndex: 2214 entries, 2003-01-02 to 2011-10-14\n",
      "Data columns (total 4 columns):\n",
      " #   Column  Non-Null Count  Dtype  \n",
      "---  ------  --------------  -----  \n",
      " 0   AAPL    2214 non-null   float64\n",
      " 1   MSFT    2214 non-null   float64\n",
      " 2   XOM     2214 non-null   float64\n",
      " 3   SPX     2214 non-null   float64\n",
      "dtypes: float64(4)\n",
      "memory usage: 86.5 KB\n"
     ]
    }
   ],
   "source": [
    "stocks.info()"
   ]
  },
  {
   "cell_type": "code",
   "execution_count": 18,
   "id": "c6e304d8",
   "metadata": {},
   "outputs": [],
   "source": [
    "stocks['year'] = stocks.index.year"
   ]
  },
  {
   "cell_type": "code",
   "execution_count": 19,
   "id": "63a611fa",
   "metadata": {},
   "outputs": [],
   "source": [
    "stocks.dropna(axis=1, inplace=True)"
   ]
  },
  {
   "cell_type": "code",
   "execution_count": 20,
   "id": "6f279d21",
   "metadata": {},
   "outputs": [],
   "source": [
    "stock = ['AAPL','MSFT','XOM','SPX']"
   ]
  },
  {
   "cell_type": "code",
   "execution_count": 31,
   "id": "1e844c8d",
   "metadata": {},
   "outputs": [],
   "source": [
    "data_change = round(100 *  stocks[stock].pct_change().dropna() ,2)"
   ]
  },
  {
   "cell_type": "code",
   "execution_count": 39,
   "id": "0de20c8c",
   "metadata": {},
   "outputs": [
    {
     "data": {
      "application/vnd.microsoft.datawrangler.viewer.v0+json": {
       "columns": [
        {
         "name": "index",
         "rawType": "int64",
         "type": "integer"
        },
        {
         "name": "AAPL",
         "rawType": "float64",
         "type": "float"
        },
        {
         "name": "MSFT",
         "rawType": "float64",
         "type": "float"
        },
        {
         "name": "XOM",
         "rawType": "float64",
         "type": "float"
        },
        {
         "name": "SPX",
         "rawType": "float64",
         "type": "float"
        }
       ],
       "conversionMethod": "pd.DataFrame",
       "ref": "b30f4213-edec-49ce-b067-ce613671ba16",
       "rows": [
        [
         "2003",
         "43.58",
         "6.94",
         "18.86",
         "21.56"
        ],
        [
         "2004",
         "118.39",
         "10.3",
         "25.9",
         "9.27"
        ],
        [
         "2005",
         "87.95",
         "0.09",
         "13.86",
         "3.53"
        ],
        [
         "2006",
         "23.81",
         "16.94",
         "34.8",
         "13.25"
        ],
        [
         "2007",
         "91.94",
         "21.55",
         "24.59",
         "4.68"
        ],
        [
         "2008",
         "-66.96",
         "-46.94",
         "-0.91",
         "-40.17"
        ],
        [
         "2009",
         "96.16",
         "54.31",
         "-10.05",
         "24.7"
        ],
        [
         "2010",
         "46.22",
         "-4.33",
         "11.21",
         "13.62"
        ],
        [
         "2011",
         "29.54",
         "1.8",
         "10.94",
         "-0.67"
        ]
       ],
       "shape": {
        "columns": 4,
        "rows": 9
       }
      },
      "text/html": [
       "<div>\n",
       "<style scoped>\n",
       "    .dataframe tbody tr th:only-of-type {\n",
       "        vertical-align: middle;\n",
       "    }\n",
       "\n",
       "    .dataframe tbody tr th {\n",
       "        vertical-align: top;\n",
       "    }\n",
       "\n",
       "    .dataframe thead th {\n",
       "        text-align: right;\n",
       "    }\n",
       "</style>\n",
       "<table border=\"1\" class=\"dataframe\">\n",
       "  <thead>\n",
       "    <tr style=\"text-align: right;\">\n",
       "      <th></th>\n",
       "      <th>AAPL</th>\n",
       "      <th>MSFT</th>\n",
       "      <th>XOM</th>\n",
       "      <th>SPX</th>\n",
       "    </tr>\n",
       "  </thead>\n",
       "  <tbody>\n",
       "    <tr>\n",
       "      <th>2003</th>\n",
       "      <td>43.58</td>\n",
       "      <td>6.94</td>\n",
       "      <td>18.86</td>\n",
       "      <td>21.56</td>\n",
       "    </tr>\n",
       "    <tr>\n",
       "      <th>2004</th>\n",
       "      <td>118.39</td>\n",
       "      <td>10.30</td>\n",
       "      <td>25.90</td>\n",
       "      <td>9.27</td>\n",
       "    </tr>\n",
       "    <tr>\n",
       "      <th>2005</th>\n",
       "      <td>87.95</td>\n",
       "      <td>0.09</td>\n",
       "      <td>13.86</td>\n",
       "      <td>3.53</td>\n",
       "    </tr>\n",
       "    <tr>\n",
       "      <th>2006</th>\n",
       "      <td>23.81</td>\n",
       "      <td>16.94</td>\n",
       "      <td>34.80</td>\n",
       "      <td>13.25</td>\n",
       "    </tr>\n",
       "    <tr>\n",
       "      <th>2007</th>\n",
       "      <td>91.94</td>\n",
       "      <td>21.55</td>\n",
       "      <td>24.59</td>\n",
       "      <td>4.68</td>\n",
       "    </tr>\n",
       "    <tr>\n",
       "      <th>2008</th>\n",
       "      <td>-66.96</td>\n",
       "      <td>-46.94</td>\n",
       "      <td>-0.91</td>\n",
       "      <td>-40.17</td>\n",
       "    </tr>\n",
       "    <tr>\n",
       "      <th>2009</th>\n",
       "      <td>96.16</td>\n",
       "      <td>54.31</td>\n",
       "      <td>-10.05</td>\n",
       "      <td>24.70</td>\n",
       "    </tr>\n",
       "    <tr>\n",
       "      <th>2010</th>\n",
       "      <td>46.22</td>\n",
       "      <td>-4.33</td>\n",
       "      <td>11.21</td>\n",
       "      <td>13.62</td>\n",
       "    </tr>\n",
       "    <tr>\n",
       "      <th>2011</th>\n",
       "      <td>29.54</td>\n",
       "      <td>1.80</td>\n",
       "      <td>10.94</td>\n",
       "      <td>-0.67</td>\n",
       "    </tr>\n",
       "  </tbody>\n",
       "</table>\n",
       "</div>"
      ],
      "text/plain": [
       "        AAPL   MSFT    XOM    SPX\n",
       "2003   43.58   6.94  18.86  21.56\n",
       "2004  118.39  10.30  25.90   9.27\n",
       "2005   87.95   0.09  13.86   3.53\n",
       "2006   23.81  16.94  34.80  13.25\n",
       "2007   91.94  21.55  24.59   4.68\n",
       "2008  -66.96 -46.94  -0.91 -40.17\n",
       "2009   96.16  54.31 -10.05  24.70\n",
       "2010   46.22  -4.33  11.21  13.62\n",
       "2011   29.54   1.80  10.94  -0.67"
      ]
     },
     "execution_count": 39,
     "metadata": {},
     "output_type": "execute_result"
    }
   ],
   "source": [
    "get_year = lambda x : x.year\n",
    "\n",
    "round(data_change.groupby(get_year).sum() ,2)"
   ]
  }
 ],
 "metadata": {
  "kernelspec": {
   "display_name": ".venv",
   "language": "python",
   "name": "python3"
  },
  "language_info": {
   "codemirror_mode": {
    "name": "ipython",
    "version": 3
   },
   "file_extension": ".py",
   "mimetype": "text/x-python",
   "name": "python",
   "nbconvert_exporter": "python",
   "pygments_lexer": "ipython3",
   "version": "3.10.15"
  }
 },
 "nbformat": 4,
 "nbformat_minor": 5
}
