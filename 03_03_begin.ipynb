{
 "cells": [
  {
   "cell_type": "markdown",
   "id": "20588d2a",
   "metadata": {},
   "source": [
    "# Parsing datetime data"
   ]
  },
  {
   "cell_type": "code",
   "execution_count": 124,
   "id": "5a9a92a6",
   "metadata": {},
   "outputs": [],
   "source": [
    "import pandas as pd"
   ]
  },
  {
   "cell_type": "code",
   "execution_count": 125,
   "id": "910ceb1d",
   "metadata": {},
   "outputs": [
    {
     "data": {
      "application/vnd.microsoft.datawrangler.viewer.v0+json": {
       "columns": [
        {
         "name": "index",
         "rawType": "int64",
         "type": "integer"
        },
        {
         "name": "id",
         "rawType": "int64",
         "type": "integer"
        },
        {
         "name": "date",
         "rawType": "object",
         "type": "string"
        },
        {
         "name": "time",
         "rawType": "object",
         "type": "unknown"
        },
        {
         "name": "country_name",
         "rawType": "object",
         "type": "string"
        },
        {
         "name": "state/province",
         "rawType": "object",
         "type": "string"
        },
        {
         "name": "population",
         "rawType": "int64",
         "type": "integer"
        },
        {
         "name": "landslide_type",
         "rawType": "object",
         "type": "string"
        },
        {
         "name": "trigger",
         "rawType": "object",
         "type": "string"
        },
        {
         "name": "fatalities",
         "rawType": "float64",
         "type": "float"
        }
       ],
       "conversionMethod": "pd.DataFrame",
       "ref": "71c7099d-9d65-4d4c-bae1-7f1fe7480453",
       "rows": [
        [
         "0",
         "34",
         "3/2/07",
         "Night",
         "United States",
         "Virginia",
         "16000",
         "Landslide",
         "Rain",
         null
        ],
        [
         "1",
         "42",
         "3/22/07",
         null,
         "United States",
         "Ohio",
         "17288",
         "Landslide",
         "Rain",
         null
        ],
        [
         "2",
         "56",
         "4/6/07",
         null,
         "United States",
         "Pennsylvania",
         "15930",
         "Landslide",
         "Rain",
         null
        ],
        [
         "3",
         "59",
         "4/14/07",
         null,
         "Canada",
         "Quebec",
         "42786",
         "Riverbank collapse",
         "Rain",
         null
        ],
        [
         "4",
         "61",
         "4/15/07",
         null,
         "United States",
         "Kentucky",
         "6903",
         "Landslide",
         "Downpour",
         "0.0"
        ]
       ],
       "shape": {
        "columns": 9,
        "rows": 5
       }
      },
      "text/html": [
       "<div>\n",
       "<style scoped>\n",
       "    .dataframe tbody tr th:only-of-type {\n",
       "        vertical-align: middle;\n",
       "    }\n",
       "\n",
       "    .dataframe tbody tr th {\n",
       "        vertical-align: top;\n",
       "    }\n",
       "\n",
       "    .dataframe thead th {\n",
       "        text-align: right;\n",
       "    }\n",
       "</style>\n",
       "<table border=\"1\" class=\"dataframe\">\n",
       "  <thead>\n",
       "    <tr style=\"text-align: right;\">\n",
       "      <th></th>\n",
       "      <th>id</th>\n",
       "      <th>date</th>\n",
       "      <th>time</th>\n",
       "      <th>country_name</th>\n",
       "      <th>state/province</th>\n",
       "      <th>population</th>\n",
       "      <th>landslide_type</th>\n",
       "      <th>trigger</th>\n",
       "      <th>fatalities</th>\n",
       "    </tr>\n",
       "  </thead>\n",
       "  <tbody>\n",
       "    <tr>\n",
       "      <th>0</th>\n",
       "      <td>34</td>\n",
       "      <td>3/2/07</td>\n",
       "      <td>Night</td>\n",
       "      <td>United States</td>\n",
       "      <td>Virginia</td>\n",
       "      <td>16000</td>\n",
       "      <td>Landslide</td>\n",
       "      <td>Rain</td>\n",
       "      <td>NaN</td>\n",
       "    </tr>\n",
       "    <tr>\n",
       "      <th>1</th>\n",
       "      <td>42</td>\n",
       "      <td>3/22/07</td>\n",
       "      <td>NaN</td>\n",
       "      <td>United States</td>\n",
       "      <td>Ohio</td>\n",
       "      <td>17288</td>\n",
       "      <td>Landslide</td>\n",
       "      <td>Rain</td>\n",
       "      <td>NaN</td>\n",
       "    </tr>\n",
       "    <tr>\n",
       "      <th>2</th>\n",
       "      <td>56</td>\n",
       "      <td>4/6/07</td>\n",
       "      <td>NaN</td>\n",
       "      <td>United States</td>\n",
       "      <td>Pennsylvania</td>\n",
       "      <td>15930</td>\n",
       "      <td>Landslide</td>\n",
       "      <td>Rain</td>\n",
       "      <td>NaN</td>\n",
       "    </tr>\n",
       "    <tr>\n",
       "      <th>3</th>\n",
       "      <td>59</td>\n",
       "      <td>4/14/07</td>\n",
       "      <td>NaN</td>\n",
       "      <td>Canada</td>\n",
       "      <td>Quebec</td>\n",
       "      <td>42786</td>\n",
       "      <td>Riverbank collapse</td>\n",
       "      <td>Rain</td>\n",
       "      <td>NaN</td>\n",
       "    </tr>\n",
       "    <tr>\n",
       "      <th>4</th>\n",
       "      <td>61</td>\n",
       "      <td>4/15/07</td>\n",
       "      <td>NaN</td>\n",
       "      <td>United States</td>\n",
       "      <td>Kentucky</td>\n",
       "      <td>6903</td>\n",
       "      <td>Landslide</td>\n",
       "      <td>Downpour</td>\n",
       "      <td>0.0</td>\n",
       "    </tr>\n",
       "  </tbody>\n",
       "</table>\n",
       "</div>"
      ],
      "text/plain": [
       "   id     date   time   country_name state/province  population  \\\n",
       "0  34   3/2/07  Night  United States       Virginia       16000   \n",
       "1  42  3/22/07    NaN  United States           Ohio       17288   \n",
       "2  56   4/6/07    NaN  United States   Pennsylvania       15930   \n",
       "3  59  4/14/07    NaN         Canada         Quebec       42786   \n",
       "4  61  4/15/07    NaN  United States       Kentucky        6903   \n",
       "\n",
       "       landslide_type   trigger  fatalities  \n",
       "0           Landslide      Rain         NaN  \n",
       "1           Landslide      Rain         NaN  \n",
       "2           Landslide      Rain         NaN  \n",
       "3  Riverbank collapse      Rain         NaN  \n",
       "4           Landslide  Downpour         0.0  "
      ]
     },
     "execution_count": 125,
     "metadata": {},
     "output_type": "execute_result"
    }
   ],
   "source": [
    "df = pd.read_csv(\"./data/landslides.csv\")\n",
    "df.head()"
   ]
  },
  {
   "cell_type": "markdown",
   "id": "0524fad8",
   "metadata": {},
   "source": [
    "## Check and handle missing values"
   ]
  },
  {
   "cell_type": "code",
   "execution_count": 126,
   "id": "9a2a3dba",
   "metadata": {},
   "outputs": [
    {
     "name": "stdout",
     "output_type": "stream",
     "text": [
      "<class 'pandas.core.frame.DataFrame'>\n",
      "RangeIndex: 1693 entries, 0 to 1692\n",
      "Data columns (total 9 columns):\n",
      " #   Column          Non-Null Count  Dtype  \n",
      "---  ------          --------------  -----  \n",
      " 0   id              1693 non-null   int64  \n",
      " 1   date            1690 non-null   object \n",
      " 2   time            629 non-null    object \n",
      " 3   country_name    1693 non-null   object \n",
      " 4   state/province  1692 non-null   object \n",
      " 5   population      1693 non-null   int64  \n",
      " 6   landslide_type  1692 non-null   object \n",
      " 7   trigger         1691 non-null   object \n",
      " 8   fatalities      1446 non-null   float64\n",
      "dtypes: float64(1), int64(2), object(6)\n",
      "memory usage: 119.2+ KB\n"
     ]
    }
   ],
   "source": [
    "df.info()"
   ]
  },
  {
   "cell_type": "code",
   "execution_count": 127,
   "id": "fabbae19",
   "metadata": {},
   "outputs": [
    {
     "data": {
      "text/plain": [
       "id                   0\n",
       "date                 3\n",
       "time              1064\n",
       "country_name         0\n",
       "state/province       1\n",
       "population           0\n",
       "landslide_type       1\n",
       "trigger              2\n",
       "fatalities         247\n",
       "dtype: int64"
      ]
     },
     "execution_count": 127,
     "metadata": {},
     "output_type": "execute_result"
    }
   ],
   "source": [
    "df.isna().sum()"
   ]
  },
  {
   "cell_type": "code",
   "execution_count": 128,
   "id": "5f2275e7",
   "metadata": {},
   "outputs": [],
   "source": [
    "df = df[~df['date'].isnull()]"
   ]
  },
  {
   "cell_type": "code",
   "execution_count": 129,
   "id": "414c4af8",
   "metadata": {},
   "outputs": [
    {
     "data": {
      "application/vnd.microsoft.datawrangler.viewer.v0+json": {
       "columns": [
        {
         "name": "index",
         "rawType": "int64",
         "type": "integer"
        },
        {
         "name": "id",
         "rawType": "int64",
         "type": "integer"
        },
        {
         "name": "date",
         "rawType": "object",
         "type": "string"
        },
        {
         "name": "time",
         "rawType": "object",
         "type": "unknown"
        },
        {
         "name": "country_name",
         "rawType": "object",
         "type": "string"
        },
        {
         "name": "state/province",
         "rawType": "object",
         "type": "unknown"
        },
        {
         "name": "population",
         "rawType": "int64",
         "type": "integer"
        },
        {
         "name": "landslide_type",
         "rawType": "object",
         "type": "unknown"
        },
        {
         "name": "trigger",
         "rawType": "object",
         "type": "unknown"
        },
        {
         "name": "fatalities",
         "rawType": "float64",
         "type": "float"
        }
       ],
       "conversionMethod": "pd.DataFrame",
       "ref": "1178d310-143e-49ec-a089-fbbe85959a30",
       "rows": [
        [
         "0",
         "34",
         "3/2/07",
         "Night",
         "United States",
         "Virginia",
         "16000",
         "Landslide",
         "Rain",
         null
        ],
        [
         "1",
         "42",
         "3/22/07",
         null,
         "United States",
         "Ohio",
         "17288",
         "Landslide",
         "Rain",
         null
        ],
        [
         "2",
         "56",
         "4/6/07",
         null,
         "United States",
         "Pennsylvania",
         "15930",
         "Landslide",
         "Rain",
         null
        ],
        [
         "3",
         "59",
         "4/14/07",
         null,
         "Canada",
         "Quebec",
         "42786",
         "Riverbank collapse",
         "Rain",
         null
        ],
        [
         "4",
         "61",
         "4/15/07",
         null,
         "United States",
         "Kentucky",
         "6903",
         "Landslide",
         "Downpour",
         "0.0"
        ],
        [
         "5",
         "64",
         "4/20/07",
         null,
         "United States",
         "Kentucky",
         "6903",
         "Landslide",
         "Rain",
         null
        ],
        [
         "6",
         "67",
         "4/24/07",
         null,
         "United States",
         "South Dakota",
         "2540",
         "Landslide",
         "Rain",
         null
        ],
        [
         "7",
         "77",
         "5/21/07",
         null,
         "Colombia",
         "Risaralda",
         "440118",
         "Mudslide",
         "Rain",
         "13.0"
        ],
        [
         "8",
         "105",
         "6/27/07",
         null,
         "Ecuador",
         "Zamora-Chinchipe",
         "15276",
         "Landslide",
         "Downpour",
         null
        ],
        [
         "9",
         "106",
         "6/27/07",
         null,
         "Ecuador",
         "Loja",
         "117796",
         "Landslide",
         "Downpour",
         null
        ],
        [
         "10",
         "107",
         "6/27/07",
         null,
         "Ecuador",
         "Pichincha",
         "5114",
         "Landslide",
         "Downpour",
         null
        ],
        [
         "11",
         "109",
         "7/1/07",
         null,
         "United States",
         "Texas",
         "42409",
         "Landslide",
         "Rain",
         null
        ],
        [
         "12",
         "115",
         "7/4/07",
         null,
         "Mexico",
         "Veracruz-Llave",
         "1947",
         "Landslide",
         "Rain",
         "7.0"
        ],
        [
         "13",
         "119",
         "7/8/07",
         null,
         "Canada",
         "Ontario",
         "812129",
         "Landslide",
         "Unknown",
         null
        ],
        [
         "14",
         "124",
         "7/13/07",
         "Night",
         "Dominican Republic",
         "Distrito Nacional",
         "13456",
         "Landslide",
         "Unknown",
         null
        ],
        [
         "15",
         "138",
         "7/24/07",
         null,
         "United States",
         "Texas",
         "175396",
         "Landslide",
         "Rain",
         null
        ],
        [
         "16",
         "165",
         "8/9/07",
         null,
         "Guatemala",
         "Guatemala",
         "47247",
         "Mudslide",
         "Rain",
         "5.0"
        ],
        [
         "17",
         "174",
         "8/11/07",
         null,
         "Jamaica",
         "Portland",
         "14400",
         "Landslide",
         "Rain",
         null
        ],
        [
         "18",
         "185",
         "8/14/07",
         null,
         "United States",
         "Colorado",
         "2475",
         "Mudslide",
         "Rain",
         null
        ],
        [
         "19",
         "186",
         "8/17/07",
         null,
         "Dominica",
         "Saint Paul",
         "702",
         "Mudslide",
         "Tropical cyclone",
         "2.0"
        ],
        [
         "20",
         "187",
         "8/18/07",
         null,
         "United States",
         "Minnesota",
         "2868",
         "Landslide",
         "Rain",
         null
        ],
        [
         "21",
         "188",
         "8/18/07",
         null,
         "United States",
         "Wyoming",
         "9520",
         "Landslide",
         "Rain",
         null
        ],
        [
         "22",
         "189",
         "8/18/07",
         null,
         "United States",
         "Minnesota",
         "106769",
         "Mudslide",
         "Rain",
         null
        ],
        [
         "23",
         "193",
         "8/19/07",
         null,
         "United States",
         "Wisconsin",
         "51320",
         "Complex",
         "Rain",
         null
        ],
        [
         "24",
         "194",
         "8/19/07",
         null,
         "United States",
         "Wisconsin",
         "51320",
         "Mudslide",
         "Rain",
         null
        ],
        [
         "25",
         "197",
         "8/20/07",
         null,
         "United States",
         "West Virginia",
         "1526",
         "Mudslide",
         "Rain",
         null
        ],
        [
         "26",
         "198",
         "8/21/07",
         null,
         "Guatemala",
         "Alta Verapaz",
         "2006",
         "Landslide",
         "Tropical cyclone",
         null
        ],
        [
         "27",
         "199",
         "8/21/07",
         null,
         "Guatemala",
         "Izabal",
         "18994",
         "Landslide",
         "Tropical cyclone",
         null
        ],
        [
         "28",
         "201",
         "8/23/07",
         null,
         "Mexico",
         "Puebla",
         "1414",
         "Mudslide",
         "Tropical cyclone",
         "6.0"
        ],
        [
         "29",
         "224",
         "9/1/07",
         null,
         "Trinidad and Tobago",
         "Tobago",
         "17000",
         "Landslide",
         "Tropical cyclone",
         null
        ],
        [
         "30",
         "225",
         "9/2/07",
         null,
         "Mexico",
         "Sinaloa",
         "3191",
         "Complex",
         "Tropical cyclone",
         "3.0"
        ],
        [
         "31",
         "228",
         "9/3/07",
         null,
         "United States",
         "New Mexico",
         "1788",
         "Mudslide",
         "Rain",
         null
        ],
        [
         "32",
         "229",
         "9/4/07",
         null,
         "Nicaragua",
         "Atlántico Norte",
         "6315",
         "Complex",
         "Tropical cyclone",
         null
        ],
        [
         "33",
         "230",
         "9/5/07",
         null,
         "El Salvador",
         "Ahuachapán",
         "7797",
         "Mudslide",
         "Tropical cyclone",
         null
        ],
        [
         "34",
         "235",
         "9/5/07",
         null,
         "United States",
         "Wyoming",
         "1176",
         "Landslide",
         "Rain",
         null
        ],
        [
         "35",
         "236",
         "9/5/07",
         null,
         "United States",
         "Idaho",
         "2689",
         "Mudslide",
         "Rain",
         null
        ],
        [
         "36",
         "238",
         "9/6/07",
         null,
         "United States",
         "Colorado",
         "12088",
         "Mudslide",
         "Rain",
         null
        ],
        [
         "37",
         "249",
         "9/9/07",
         null,
         "Costa Rica",
         "Heredia",
         "21947",
         "Landslide",
         "Rain",
         null
        ],
        [
         "38",
         "250",
         "9/9/07",
         null,
         "Dominica",
         "Saint George",
         "16571",
         "Landslide",
         "Rain",
         null
        ],
        [
         "39",
         "268",
         "9/17/07",
         null,
         "United States",
         "Colorado",
         "4518",
         "Mudslide",
         "Rain",
         null
        ],
        [
         "40",
         "277",
         "9/22/07",
         null,
         "Guatemala",
         "Guatemala",
         "994938",
         "Mudslide",
         "Rain",
         "3.0"
        ],
        [
         "41",
         "284",
         "9/28/07",
         null,
         "Mexico",
         "Puebla",
         "3761",
         "Mudslide",
         "Tropical cyclone",
         "1.0"
        ],
        [
         "42",
         "297",
         "10/8/07",
         null,
         "Haiti",
         "Artibonite",
         "7294",
         "Landslide",
         "Downpour",
         null
        ],
        [
         "43",
         "299",
         "10/9/07",
         null,
         "Costa Rica",
         "San José",
         "3072",
         "Complex",
         "Rain",
         "4.0"
        ],
        [
         "44",
         "301",
         "10/11/07",
         null,
         "Costa Rica",
         "Alajuela",
         "7014",
         "Mudslide",
         "Rain",
         "14.0"
        ],
        [
         "45",
         "302",
         "10/11/07",
         null,
         "Costa Rica",
         "San José",
         "26669",
         "Landslide",
         "Rain",
         "10.0"
        ],
        [
         "46",
         "303",
         "10/12/07",
         null,
         "Haiti",
         "Ouest",
         "3951",
         "Complex",
         "Rain",
         "23.0"
        ],
        [
         "47",
         "304",
         "10/12/07",
         null,
         "Jamaica",
         "St. Elizabeth",
         "1371",
         "Complex",
         "Rain",
         null
        ],
        [
         "48",
         "307",
         "10/13/07",
         null,
         "Colombia",
         "Cauca",
         "9985",
         "Mudslide",
         "Continuous rain",
         "24.0"
        ],
        [
         "49",
         "314",
         "10/17/07",
         null,
         "Jamaica",
         "Saint Thomas",
         "2382",
         "Mudslide",
         "Rain",
         null
        ]
       ],
       "shape": {
        "columns": 9,
        "rows": 1690
       }
      },
      "text/html": [
       "<div>\n",
       "<style scoped>\n",
       "    .dataframe tbody tr th:only-of-type {\n",
       "        vertical-align: middle;\n",
       "    }\n",
       "\n",
       "    .dataframe tbody tr th {\n",
       "        vertical-align: top;\n",
       "    }\n",
       "\n",
       "    .dataframe thead th {\n",
       "        text-align: right;\n",
       "    }\n",
       "</style>\n",
       "<table border=\"1\" class=\"dataframe\">\n",
       "  <thead>\n",
       "    <tr style=\"text-align: right;\">\n",
       "      <th></th>\n",
       "      <th>id</th>\n",
       "      <th>date</th>\n",
       "      <th>time</th>\n",
       "      <th>country_name</th>\n",
       "      <th>state/province</th>\n",
       "      <th>population</th>\n",
       "      <th>landslide_type</th>\n",
       "      <th>trigger</th>\n",
       "      <th>fatalities</th>\n",
       "    </tr>\n",
       "  </thead>\n",
       "  <tbody>\n",
       "    <tr>\n",
       "      <th>0</th>\n",
       "      <td>34</td>\n",
       "      <td>3/2/07</td>\n",
       "      <td>Night</td>\n",
       "      <td>United States</td>\n",
       "      <td>Virginia</td>\n",
       "      <td>16000</td>\n",
       "      <td>Landslide</td>\n",
       "      <td>Rain</td>\n",
       "      <td>NaN</td>\n",
       "    </tr>\n",
       "    <tr>\n",
       "      <th>1</th>\n",
       "      <td>42</td>\n",
       "      <td>3/22/07</td>\n",
       "      <td>NaN</td>\n",
       "      <td>United States</td>\n",
       "      <td>Ohio</td>\n",
       "      <td>17288</td>\n",
       "      <td>Landslide</td>\n",
       "      <td>Rain</td>\n",
       "      <td>NaN</td>\n",
       "    </tr>\n",
       "    <tr>\n",
       "      <th>2</th>\n",
       "      <td>56</td>\n",
       "      <td>4/6/07</td>\n",
       "      <td>NaN</td>\n",
       "      <td>United States</td>\n",
       "      <td>Pennsylvania</td>\n",
       "      <td>15930</td>\n",
       "      <td>Landslide</td>\n",
       "      <td>Rain</td>\n",
       "      <td>NaN</td>\n",
       "    </tr>\n",
       "    <tr>\n",
       "      <th>3</th>\n",
       "      <td>59</td>\n",
       "      <td>4/14/07</td>\n",
       "      <td>NaN</td>\n",
       "      <td>Canada</td>\n",
       "      <td>Quebec</td>\n",
       "      <td>42786</td>\n",
       "      <td>Riverbank collapse</td>\n",
       "      <td>Rain</td>\n",
       "      <td>NaN</td>\n",
       "    </tr>\n",
       "    <tr>\n",
       "      <th>4</th>\n",
       "      <td>61</td>\n",
       "      <td>4/15/07</td>\n",
       "      <td>NaN</td>\n",
       "      <td>United States</td>\n",
       "      <td>Kentucky</td>\n",
       "      <td>6903</td>\n",
       "      <td>Landslide</td>\n",
       "      <td>Downpour</td>\n",
       "      <td>0.0</td>\n",
       "    </tr>\n",
       "    <tr>\n",
       "      <th>...</th>\n",
       "      <td>...</td>\n",
       "      <td>...</td>\n",
       "      <td>...</td>\n",
       "      <td>...</td>\n",
       "      <td>...</td>\n",
       "      <td>...</td>\n",
       "      <td>...</td>\n",
       "      <td>...</td>\n",
       "      <td>...</td>\n",
       "    </tr>\n",
       "    <tr>\n",
       "      <th>1688</th>\n",
       "      <td>7535</td>\n",
       "      <td>12/7/15</td>\n",
       "      <td>NaN</td>\n",
       "      <td>United States</td>\n",
       "      <td>North Carolina</td>\n",
       "      <td>1646</td>\n",
       "      <td>Rockfall</td>\n",
       "      <td>NaN</td>\n",
       "      <td>0.0</td>\n",
       "    </tr>\n",
       "    <tr>\n",
       "      <th>1689</th>\n",
       "      <td>7537</td>\n",
       "      <td>2/22/16</td>\n",
       "      <td>0:00</td>\n",
       "      <td>United States</td>\n",
       "      <td>West Virginia</td>\n",
       "      <td>51400</td>\n",
       "      <td>Mudslide</td>\n",
       "      <td>Unknown</td>\n",
       "      <td>0.0</td>\n",
       "    </tr>\n",
       "    <tr>\n",
       "      <th>1690</th>\n",
       "      <td>7539</td>\n",
       "      <td>2/23/16</td>\n",
       "      <td>NaN</td>\n",
       "      <td>United States</td>\n",
       "      <td>West Virginia</td>\n",
       "      <td>2406</td>\n",
       "      <td>Landslide</td>\n",
       "      <td>Rain</td>\n",
       "      <td>0.0</td>\n",
       "    </tr>\n",
       "    <tr>\n",
       "      <th>1691</th>\n",
       "      <td>7540</td>\n",
       "      <td>2/26/16</td>\n",
       "      <td>21:06</td>\n",
       "      <td>United States</td>\n",
       "      <td>West Virginia</td>\n",
       "      <td>1048</td>\n",
       "      <td>Rockfall</td>\n",
       "      <td>Unknown</td>\n",
       "      <td>0.0</td>\n",
       "    </tr>\n",
       "    <tr>\n",
       "      <th>1692</th>\n",
       "      <td>7541</td>\n",
       "      <td>3/2/16</td>\n",
       "      <td>8:00</td>\n",
       "      <td>United States</td>\n",
       "      <td>Vermont</td>\n",
       "      <td>2066</td>\n",
       "      <td>Rockfall</td>\n",
       "      <td>Unknown</td>\n",
       "      <td>0.0</td>\n",
       "    </tr>\n",
       "  </tbody>\n",
       "</table>\n",
       "<p>1690 rows × 9 columns</p>\n",
       "</div>"
      ],
      "text/plain": [
       "        id     date   time   country_name  state/province  population  \\\n",
       "0       34   3/2/07  Night  United States        Virginia       16000   \n",
       "1       42  3/22/07    NaN  United States            Ohio       17288   \n",
       "2       56   4/6/07    NaN  United States    Pennsylvania       15930   \n",
       "3       59  4/14/07    NaN         Canada          Quebec       42786   \n",
       "4       61  4/15/07    NaN  United States        Kentucky        6903   \n",
       "...    ...      ...    ...            ...             ...         ...   \n",
       "1688  7535  12/7/15    NaN  United States  North Carolina        1646   \n",
       "1689  7537  2/22/16   0:00  United States   West Virginia       51400   \n",
       "1690  7539  2/23/16    NaN  United States   West Virginia        2406   \n",
       "1691  7540  2/26/16  21:06  United States   West Virginia        1048   \n",
       "1692  7541   3/2/16   8:00  United States         Vermont        2066   \n",
       "\n",
       "          landslide_type   trigger  fatalities  \n",
       "0              Landslide      Rain         NaN  \n",
       "1              Landslide      Rain         NaN  \n",
       "2              Landslide      Rain         NaN  \n",
       "3     Riverbank collapse      Rain         NaN  \n",
       "4              Landslide  Downpour         0.0  \n",
       "...                  ...       ...         ...  \n",
       "1688            Rockfall       NaN         0.0  \n",
       "1689            Mudslide   Unknown         0.0  \n",
       "1690           Landslide      Rain         0.0  \n",
       "1691            Rockfall   Unknown         0.0  \n",
       "1692            Rockfall   Unknown         0.0  \n",
       "\n",
       "[1690 rows x 9 columns]"
      ]
     },
     "execution_count": 129,
     "metadata": {},
     "output_type": "execute_result"
    }
   ],
   "source": [
    "df"
   ]
  },
  {
   "cell_type": "code",
   "execution_count": 130,
   "id": "273062f5",
   "metadata": {},
   "outputs": [
    {
     "data": {
      "text/plain": [
       "time\n",
       "Night            97\n",
       "Morning          87\n",
       "Afternoon        58\n",
       "Early morning    36\n",
       "3:00:00          12\n",
       "                 ..\n",
       "1:13              1\n",
       "9:40:00           1\n",
       "11:50:00          1\n",
       "                  1\n",
       "21:06             1\n",
       "Name: count, Length: 159, dtype: int64"
      ]
     },
     "execution_count": 130,
     "metadata": {},
     "output_type": "execute_result"
    }
   ],
   "source": [
    "df['time'].value_counts()"
   ]
  },
  {
   "cell_type": "code",
   "execution_count": 131,
   "id": "822c3885",
   "metadata": {},
   "outputs": [
    {
     "data": {
      "text/plain": [
       "np.int64(1064)"
      ]
     },
     "execution_count": 131,
     "metadata": {},
     "output_type": "execute_result"
    }
   ],
   "source": [
    "df['time'].isna().sum()"
   ]
  },
  {
   "cell_type": "code",
   "execution_count": 132,
   "id": "05c3ec3d",
   "metadata": {},
   "outputs": [
    {
     "data": {
      "application/vnd.microsoft.datawrangler.viewer.v0+json": {
       "columns": [
        {
         "name": "index",
         "rawType": "int64",
         "type": "integer"
        },
        {
         "name": "id",
         "rawType": "int64",
         "type": "integer"
        },
        {
         "name": "date",
         "rawType": "object",
         "type": "string"
        },
        {
         "name": "time",
         "rawType": "object",
         "type": "string"
        },
        {
         "name": "country_name",
         "rawType": "object",
         "type": "string"
        },
        {
         "name": "state/province",
         "rawType": "object",
         "type": "unknown"
        },
        {
         "name": "population",
         "rawType": "int64",
         "type": "integer"
        },
        {
         "name": "landslide_type",
         "rawType": "object",
         "type": "unknown"
        },
        {
         "name": "trigger",
         "rawType": "object",
         "type": "unknown"
        },
        {
         "name": "fatalities",
         "rawType": "float64",
         "type": "float"
        }
       ],
       "conversionMethod": "pd.DataFrame",
       "ref": "ac528a07-f397-43e3-99fb-3d28d13d65a1",
       "rows": [
        [
         "0",
         "34",
         "3/2/07",
         "Night",
         "United States",
         "Virginia",
         "16000",
         "Landslide",
         "Rain",
         null
        ],
        [
         "1",
         "42",
         "3/22/07",
         "Not Known",
         "United States",
         "Ohio",
         "17288",
         "Landslide",
         "Rain",
         null
        ],
        [
         "2",
         "56",
         "4/6/07",
         "Not Known",
         "United States",
         "Pennsylvania",
         "15930",
         "Landslide",
         "Rain",
         null
        ],
        [
         "3",
         "59",
         "4/14/07",
         "Not Known",
         "Canada",
         "Quebec",
         "42786",
         "Riverbank collapse",
         "Rain",
         null
        ],
        [
         "4",
         "61",
         "4/15/07",
         "Not Known",
         "United States",
         "Kentucky",
         "6903",
         "Landslide",
         "Downpour",
         "0.0"
        ],
        [
         "5",
         "64",
         "4/20/07",
         "Not Known",
         "United States",
         "Kentucky",
         "6903",
         "Landslide",
         "Rain",
         null
        ],
        [
         "6",
         "67",
         "4/24/07",
         "Not Known",
         "United States",
         "South Dakota",
         "2540",
         "Landslide",
         "Rain",
         null
        ],
        [
         "7",
         "77",
         "5/21/07",
         "Not Known",
         "Colombia",
         "Risaralda",
         "440118",
         "Mudslide",
         "Rain",
         "13.0"
        ],
        [
         "8",
         "105",
         "6/27/07",
         "Not Known",
         "Ecuador",
         "Zamora-Chinchipe",
         "15276",
         "Landslide",
         "Downpour",
         null
        ],
        [
         "9",
         "106",
         "6/27/07",
         "Not Known",
         "Ecuador",
         "Loja",
         "117796",
         "Landslide",
         "Downpour",
         null
        ],
        [
         "10",
         "107",
         "6/27/07",
         "Not Known",
         "Ecuador",
         "Pichincha",
         "5114",
         "Landslide",
         "Downpour",
         null
        ],
        [
         "11",
         "109",
         "7/1/07",
         "Not Known",
         "United States",
         "Texas",
         "42409",
         "Landslide",
         "Rain",
         null
        ],
        [
         "12",
         "115",
         "7/4/07",
         "Not Known",
         "Mexico",
         "Veracruz-Llave",
         "1947",
         "Landslide",
         "Rain",
         "7.0"
        ],
        [
         "13",
         "119",
         "7/8/07",
         "Not Known",
         "Canada",
         "Ontario",
         "812129",
         "Landslide",
         "Unknown",
         null
        ],
        [
         "14",
         "124",
         "7/13/07",
         "Night",
         "Dominican Republic",
         "Distrito Nacional",
         "13456",
         "Landslide",
         "Unknown",
         null
        ],
        [
         "15",
         "138",
         "7/24/07",
         "Not Known",
         "United States",
         "Texas",
         "175396",
         "Landslide",
         "Rain",
         null
        ],
        [
         "16",
         "165",
         "8/9/07",
         "Not Known",
         "Guatemala",
         "Guatemala",
         "47247",
         "Mudslide",
         "Rain",
         "5.0"
        ],
        [
         "17",
         "174",
         "8/11/07",
         "Not Known",
         "Jamaica",
         "Portland",
         "14400",
         "Landslide",
         "Rain",
         null
        ],
        [
         "18",
         "185",
         "8/14/07",
         "Not Known",
         "United States",
         "Colorado",
         "2475",
         "Mudslide",
         "Rain",
         null
        ],
        [
         "19",
         "186",
         "8/17/07",
         "Not Known",
         "Dominica",
         "Saint Paul",
         "702",
         "Mudslide",
         "Tropical cyclone",
         "2.0"
        ],
        [
         "20",
         "187",
         "8/18/07",
         "Not Known",
         "United States",
         "Minnesota",
         "2868",
         "Landslide",
         "Rain",
         null
        ],
        [
         "21",
         "188",
         "8/18/07",
         "Not Known",
         "United States",
         "Wyoming",
         "9520",
         "Landslide",
         "Rain",
         null
        ],
        [
         "22",
         "189",
         "8/18/07",
         "Not Known",
         "United States",
         "Minnesota",
         "106769",
         "Mudslide",
         "Rain",
         null
        ],
        [
         "23",
         "193",
         "8/19/07",
         "Not Known",
         "United States",
         "Wisconsin",
         "51320",
         "Complex",
         "Rain",
         null
        ],
        [
         "24",
         "194",
         "8/19/07",
         "Not Known",
         "United States",
         "Wisconsin",
         "51320",
         "Mudslide",
         "Rain",
         null
        ],
        [
         "25",
         "197",
         "8/20/07",
         "Not Known",
         "United States",
         "West Virginia",
         "1526",
         "Mudslide",
         "Rain",
         null
        ],
        [
         "26",
         "198",
         "8/21/07",
         "Not Known",
         "Guatemala",
         "Alta Verapaz",
         "2006",
         "Landslide",
         "Tropical cyclone",
         null
        ],
        [
         "27",
         "199",
         "8/21/07",
         "Not Known",
         "Guatemala",
         "Izabal",
         "18994",
         "Landslide",
         "Tropical cyclone",
         null
        ],
        [
         "28",
         "201",
         "8/23/07",
         "Not Known",
         "Mexico",
         "Puebla",
         "1414",
         "Mudslide",
         "Tropical cyclone",
         "6.0"
        ],
        [
         "29",
         "224",
         "9/1/07",
         "Not Known",
         "Trinidad and Tobago",
         "Tobago",
         "17000",
         "Landslide",
         "Tropical cyclone",
         null
        ],
        [
         "30",
         "225",
         "9/2/07",
         "Not Known",
         "Mexico",
         "Sinaloa",
         "3191",
         "Complex",
         "Tropical cyclone",
         "3.0"
        ],
        [
         "31",
         "228",
         "9/3/07",
         "Not Known",
         "United States",
         "New Mexico",
         "1788",
         "Mudslide",
         "Rain",
         null
        ],
        [
         "32",
         "229",
         "9/4/07",
         "Not Known",
         "Nicaragua",
         "Atlántico Norte",
         "6315",
         "Complex",
         "Tropical cyclone",
         null
        ],
        [
         "33",
         "230",
         "9/5/07",
         "Not Known",
         "El Salvador",
         "Ahuachapán",
         "7797",
         "Mudslide",
         "Tropical cyclone",
         null
        ],
        [
         "34",
         "235",
         "9/5/07",
         "Not Known",
         "United States",
         "Wyoming",
         "1176",
         "Landslide",
         "Rain",
         null
        ],
        [
         "35",
         "236",
         "9/5/07",
         "Not Known",
         "United States",
         "Idaho",
         "2689",
         "Mudslide",
         "Rain",
         null
        ],
        [
         "36",
         "238",
         "9/6/07",
         "Not Known",
         "United States",
         "Colorado",
         "12088",
         "Mudslide",
         "Rain",
         null
        ],
        [
         "37",
         "249",
         "9/9/07",
         "Not Known",
         "Costa Rica",
         "Heredia",
         "21947",
         "Landslide",
         "Rain",
         null
        ],
        [
         "38",
         "250",
         "9/9/07",
         "Not Known",
         "Dominica",
         "Saint George",
         "16571",
         "Landslide",
         "Rain",
         null
        ],
        [
         "39",
         "268",
         "9/17/07",
         "Not Known",
         "United States",
         "Colorado",
         "4518",
         "Mudslide",
         "Rain",
         null
        ],
        [
         "40",
         "277",
         "9/22/07",
         "Not Known",
         "Guatemala",
         "Guatemala",
         "994938",
         "Mudslide",
         "Rain",
         "3.0"
        ],
        [
         "41",
         "284",
         "9/28/07",
         "Not Known",
         "Mexico",
         "Puebla",
         "3761",
         "Mudslide",
         "Tropical cyclone",
         "1.0"
        ],
        [
         "42",
         "297",
         "10/8/07",
         "Not Known",
         "Haiti",
         "Artibonite",
         "7294",
         "Landslide",
         "Downpour",
         null
        ],
        [
         "43",
         "299",
         "10/9/07",
         "Not Known",
         "Costa Rica",
         "San José",
         "3072",
         "Complex",
         "Rain",
         "4.0"
        ],
        [
         "44",
         "301",
         "10/11/07",
         "Not Known",
         "Costa Rica",
         "Alajuela",
         "7014",
         "Mudslide",
         "Rain",
         "14.0"
        ],
        [
         "45",
         "302",
         "10/11/07",
         "Not Known",
         "Costa Rica",
         "San José",
         "26669",
         "Landslide",
         "Rain",
         "10.0"
        ],
        [
         "46",
         "303",
         "10/12/07",
         "Not Known",
         "Haiti",
         "Ouest",
         "3951",
         "Complex",
         "Rain",
         "23.0"
        ],
        [
         "47",
         "304",
         "10/12/07",
         "Not Known",
         "Jamaica",
         "St. Elizabeth",
         "1371",
         "Complex",
         "Rain",
         null
        ],
        [
         "48",
         "307",
         "10/13/07",
         "Not Known",
         "Colombia",
         "Cauca",
         "9985",
         "Mudslide",
         "Continuous rain",
         "24.0"
        ],
        [
         "49",
         "314",
         "10/17/07",
         "Not Known",
         "Jamaica",
         "Saint Thomas",
         "2382",
         "Mudslide",
         "Rain",
         null
        ]
       ],
       "shape": {
        "columns": 9,
        "rows": 1690
       }
      },
      "text/html": [
       "<div>\n",
       "<style scoped>\n",
       "    .dataframe tbody tr th:only-of-type {\n",
       "        vertical-align: middle;\n",
       "    }\n",
       "\n",
       "    .dataframe tbody tr th {\n",
       "        vertical-align: top;\n",
       "    }\n",
       "\n",
       "    .dataframe thead th {\n",
       "        text-align: right;\n",
       "    }\n",
       "</style>\n",
       "<table border=\"1\" class=\"dataframe\">\n",
       "  <thead>\n",
       "    <tr style=\"text-align: right;\">\n",
       "      <th></th>\n",
       "      <th>id</th>\n",
       "      <th>date</th>\n",
       "      <th>time</th>\n",
       "      <th>country_name</th>\n",
       "      <th>state/province</th>\n",
       "      <th>population</th>\n",
       "      <th>landslide_type</th>\n",
       "      <th>trigger</th>\n",
       "      <th>fatalities</th>\n",
       "    </tr>\n",
       "  </thead>\n",
       "  <tbody>\n",
       "    <tr>\n",
       "      <th>0</th>\n",
       "      <td>34</td>\n",
       "      <td>3/2/07</td>\n",
       "      <td>Night</td>\n",
       "      <td>United States</td>\n",
       "      <td>Virginia</td>\n",
       "      <td>16000</td>\n",
       "      <td>Landslide</td>\n",
       "      <td>Rain</td>\n",
       "      <td>NaN</td>\n",
       "    </tr>\n",
       "    <tr>\n",
       "      <th>1</th>\n",
       "      <td>42</td>\n",
       "      <td>3/22/07</td>\n",
       "      <td>Not Known</td>\n",
       "      <td>United States</td>\n",
       "      <td>Ohio</td>\n",
       "      <td>17288</td>\n",
       "      <td>Landslide</td>\n",
       "      <td>Rain</td>\n",
       "      <td>NaN</td>\n",
       "    </tr>\n",
       "    <tr>\n",
       "      <th>2</th>\n",
       "      <td>56</td>\n",
       "      <td>4/6/07</td>\n",
       "      <td>Not Known</td>\n",
       "      <td>United States</td>\n",
       "      <td>Pennsylvania</td>\n",
       "      <td>15930</td>\n",
       "      <td>Landslide</td>\n",
       "      <td>Rain</td>\n",
       "      <td>NaN</td>\n",
       "    </tr>\n",
       "    <tr>\n",
       "      <th>3</th>\n",
       "      <td>59</td>\n",
       "      <td>4/14/07</td>\n",
       "      <td>Not Known</td>\n",
       "      <td>Canada</td>\n",
       "      <td>Quebec</td>\n",
       "      <td>42786</td>\n",
       "      <td>Riverbank collapse</td>\n",
       "      <td>Rain</td>\n",
       "      <td>NaN</td>\n",
       "    </tr>\n",
       "    <tr>\n",
       "      <th>4</th>\n",
       "      <td>61</td>\n",
       "      <td>4/15/07</td>\n",
       "      <td>Not Known</td>\n",
       "      <td>United States</td>\n",
       "      <td>Kentucky</td>\n",
       "      <td>6903</td>\n",
       "      <td>Landslide</td>\n",
       "      <td>Downpour</td>\n",
       "      <td>0.0</td>\n",
       "    </tr>\n",
       "    <tr>\n",
       "      <th>...</th>\n",
       "      <td>...</td>\n",
       "      <td>...</td>\n",
       "      <td>...</td>\n",
       "      <td>...</td>\n",
       "      <td>...</td>\n",
       "      <td>...</td>\n",
       "      <td>...</td>\n",
       "      <td>...</td>\n",
       "      <td>...</td>\n",
       "    </tr>\n",
       "    <tr>\n",
       "      <th>1688</th>\n",
       "      <td>7535</td>\n",
       "      <td>12/7/15</td>\n",
       "      <td>Not Known</td>\n",
       "      <td>United States</td>\n",
       "      <td>North Carolina</td>\n",
       "      <td>1646</td>\n",
       "      <td>Rockfall</td>\n",
       "      <td>NaN</td>\n",
       "      <td>0.0</td>\n",
       "    </tr>\n",
       "    <tr>\n",
       "      <th>1689</th>\n",
       "      <td>7537</td>\n",
       "      <td>2/22/16</td>\n",
       "      <td>0:00</td>\n",
       "      <td>United States</td>\n",
       "      <td>West Virginia</td>\n",
       "      <td>51400</td>\n",
       "      <td>Mudslide</td>\n",
       "      <td>Unknown</td>\n",
       "      <td>0.0</td>\n",
       "    </tr>\n",
       "    <tr>\n",
       "      <th>1690</th>\n",
       "      <td>7539</td>\n",
       "      <td>2/23/16</td>\n",
       "      <td>Not Known</td>\n",
       "      <td>United States</td>\n",
       "      <td>West Virginia</td>\n",
       "      <td>2406</td>\n",
       "      <td>Landslide</td>\n",
       "      <td>Rain</td>\n",
       "      <td>0.0</td>\n",
       "    </tr>\n",
       "    <tr>\n",
       "      <th>1691</th>\n",
       "      <td>7540</td>\n",
       "      <td>2/26/16</td>\n",
       "      <td>21:06</td>\n",
       "      <td>United States</td>\n",
       "      <td>West Virginia</td>\n",
       "      <td>1048</td>\n",
       "      <td>Rockfall</td>\n",
       "      <td>Unknown</td>\n",
       "      <td>0.0</td>\n",
       "    </tr>\n",
       "    <tr>\n",
       "      <th>1692</th>\n",
       "      <td>7541</td>\n",
       "      <td>3/2/16</td>\n",
       "      <td>8:00</td>\n",
       "      <td>United States</td>\n",
       "      <td>Vermont</td>\n",
       "      <td>2066</td>\n",
       "      <td>Rockfall</td>\n",
       "      <td>Unknown</td>\n",
       "      <td>0.0</td>\n",
       "    </tr>\n",
       "  </tbody>\n",
       "</table>\n",
       "<p>1690 rows × 9 columns</p>\n",
       "</div>"
      ],
      "text/plain": [
       "        id     date       time   country_name  state/province  population  \\\n",
       "0       34   3/2/07      Night  United States        Virginia       16000   \n",
       "1       42  3/22/07  Not Known  United States            Ohio       17288   \n",
       "2       56   4/6/07  Not Known  United States    Pennsylvania       15930   \n",
       "3       59  4/14/07  Not Known         Canada          Quebec       42786   \n",
       "4       61  4/15/07  Not Known  United States        Kentucky        6903   \n",
       "...    ...      ...        ...            ...             ...         ...   \n",
       "1688  7535  12/7/15  Not Known  United States  North Carolina        1646   \n",
       "1689  7537  2/22/16       0:00  United States   West Virginia       51400   \n",
       "1690  7539  2/23/16  Not Known  United States   West Virginia        2406   \n",
       "1691  7540  2/26/16      21:06  United States   West Virginia        1048   \n",
       "1692  7541   3/2/16       8:00  United States         Vermont        2066   \n",
       "\n",
       "          landslide_type   trigger  fatalities  \n",
       "0              Landslide      Rain         NaN  \n",
       "1              Landslide      Rain         NaN  \n",
       "2              Landslide      Rain         NaN  \n",
       "3     Riverbank collapse      Rain         NaN  \n",
       "4              Landslide  Downpour         0.0  \n",
       "...                  ...       ...         ...  \n",
       "1688            Rockfall       NaN         0.0  \n",
       "1689            Mudslide   Unknown         0.0  \n",
       "1690           Landslide      Rain         0.0  \n",
       "1691            Rockfall   Unknown         0.0  \n",
       "1692            Rockfall   Unknown         0.0  \n",
       "\n",
       "[1690 rows x 9 columns]"
      ]
     },
     "execution_count": 132,
     "metadata": {},
     "output_type": "execute_result"
    }
   ],
   "source": [
    "df['time'] = df['time'].fillna(\"Not Known\")\n",
    "df"
   ]
  },
  {
   "cell_type": "code",
   "execution_count": 133,
   "id": "917be7a0",
   "metadata": {},
   "outputs": [
    {
     "data": {
      "text/plain": [
       "np.int64(0)"
      ]
     },
     "execution_count": 133,
     "metadata": {},
     "output_type": "execute_result"
    }
   ],
   "source": [
    "df['time'].isna().sum()"
   ]
  },
  {
   "cell_type": "code",
   "execution_count": 134,
   "id": "f7cc53b9",
   "metadata": {},
   "outputs": [
    {
     "data": {
      "text/plain": [
       "np.float64(1.4622314622314623)"
      ]
     },
     "execution_count": 134,
     "metadata": {},
     "output_type": "execute_result"
    }
   ],
   "source": [
    "mean = df['fatalities'].mean()\n",
    "mean"
   ]
  },
  {
   "cell_type": "code",
   "execution_count": 135,
   "id": "c649d532",
   "metadata": {},
   "outputs": [
    {
     "data": {
      "application/vnd.microsoft.datawrangler.viewer.v0+json": {
       "columns": [
        {
         "name": "index",
         "rawType": "int64",
         "type": "integer"
        },
        {
         "name": "id",
         "rawType": "int64",
         "type": "integer"
        },
        {
         "name": "date",
         "rawType": "object",
         "type": "string"
        },
        {
         "name": "time",
         "rawType": "object",
         "type": "string"
        },
        {
         "name": "country_name",
         "rawType": "object",
         "type": "string"
        },
        {
         "name": "state/province",
         "rawType": "object",
         "type": "unknown"
        },
        {
         "name": "population",
         "rawType": "int64",
         "type": "integer"
        },
        {
         "name": "landslide_type",
         "rawType": "object",
         "type": "unknown"
        },
        {
         "name": "trigger",
         "rawType": "object",
         "type": "unknown"
        },
        {
         "name": "fatalities",
         "rawType": "float64",
         "type": "float"
        }
       ],
       "conversionMethod": "pd.DataFrame",
       "ref": "071c8e0b-2773-4f8d-b2f4-f40d26533f62",
       "rows": [
        [
         "0",
         "34",
         "3/2/07",
         "Night",
         "United States",
         "Virginia",
         "16000",
         "Landslide",
         "Rain",
         "1.4622314622314623"
        ],
        [
         "1",
         "42",
         "3/22/07",
         "Not Known",
         "United States",
         "Ohio",
         "17288",
         "Landslide",
         "Rain",
         "1.4622314622314623"
        ],
        [
         "2",
         "56",
         "4/6/07",
         "Not Known",
         "United States",
         "Pennsylvania",
         "15930",
         "Landslide",
         "Rain",
         "1.4622314622314623"
        ],
        [
         "3",
         "59",
         "4/14/07",
         "Not Known",
         "Canada",
         "Quebec",
         "42786",
         "Riverbank collapse",
         "Rain",
         "1.4622314622314623"
        ],
        [
         "4",
         "61",
         "4/15/07",
         "Not Known",
         "United States",
         "Kentucky",
         "6903",
         "Landslide",
         "Downpour",
         "0.0"
        ],
        [
         "5",
         "64",
         "4/20/07",
         "Not Known",
         "United States",
         "Kentucky",
         "6903",
         "Landslide",
         "Rain",
         "1.4622314622314623"
        ],
        [
         "6",
         "67",
         "4/24/07",
         "Not Known",
         "United States",
         "South Dakota",
         "2540",
         "Landslide",
         "Rain",
         "1.4622314622314623"
        ],
        [
         "7",
         "77",
         "5/21/07",
         "Not Known",
         "Colombia",
         "Risaralda",
         "440118",
         "Mudslide",
         "Rain",
         "13.0"
        ],
        [
         "8",
         "105",
         "6/27/07",
         "Not Known",
         "Ecuador",
         "Zamora-Chinchipe",
         "15276",
         "Landslide",
         "Downpour",
         "1.4622314622314623"
        ],
        [
         "9",
         "106",
         "6/27/07",
         "Not Known",
         "Ecuador",
         "Loja",
         "117796",
         "Landslide",
         "Downpour",
         "1.4622314622314623"
        ],
        [
         "10",
         "107",
         "6/27/07",
         "Not Known",
         "Ecuador",
         "Pichincha",
         "5114",
         "Landslide",
         "Downpour",
         "1.4622314622314623"
        ],
        [
         "11",
         "109",
         "7/1/07",
         "Not Known",
         "United States",
         "Texas",
         "42409",
         "Landslide",
         "Rain",
         "1.4622314622314623"
        ],
        [
         "12",
         "115",
         "7/4/07",
         "Not Known",
         "Mexico",
         "Veracruz-Llave",
         "1947",
         "Landslide",
         "Rain",
         "7.0"
        ],
        [
         "13",
         "119",
         "7/8/07",
         "Not Known",
         "Canada",
         "Ontario",
         "812129",
         "Landslide",
         "Unknown",
         "1.4622314622314623"
        ],
        [
         "14",
         "124",
         "7/13/07",
         "Night",
         "Dominican Republic",
         "Distrito Nacional",
         "13456",
         "Landslide",
         "Unknown",
         "1.4622314622314623"
        ],
        [
         "15",
         "138",
         "7/24/07",
         "Not Known",
         "United States",
         "Texas",
         "175396",
         "Landslide",
         "Rain",
         "1.4622314622314623"
        ],
        [
         "16",
         "165",
         "8/9/07",
         "Not Known",
         "Guatemala",
         "Guatemala",
         "47247",
         "Mudslide",
         "Rain",
         "5.0"
        ],
        [
         "17",
         "174",
         "8/11/07",
         "Not Known",
         "Jamaica",
         "Portland",
         "14400",
         "Landslide",
         "Rain",
         "1.4622314622314623"
        ],
        [
         "18",
         "185",
         "8/14/07",
         "Not Known",
         "United States",
         "Colorado",
         "2475",
         "Mudslide",
         "Rain",
         "1.4622314622314623"
        ],
        [
         "19",
         "186",
         "8/17/07",
         "Not Known",
         "Dominica",
         "Saint Paul",
         "702",
         "Mudslide",
         "Tropical cyclone",
         "2.0"
        ],
        [
         "20",
         "187",
         "8/18/07",
         "Not Known",
         "United States",
         "Minnesota",
         "2868",
         "Landslide",
         "Rain",
         "1.4622314622314623"
        ],
        [
         "21",
         "188",
         "8/18/07",
         "Not Known",
         "United States",
         "Wyoming",
         "9520",
         "Landslide",
         "Rain",
         "1.4622314622314623"
        ],
        [
         "22",
         "189",
         "8/18/07",
         "Not Known",
         "United States",
         "Minnesota",
         "106769",
         "Mudslide",
         "Rain",
         "1.4622314622314623"
        ],
        [
         "23",
         "193",
         "8/19/07",
         "Not Known",
         "United States",
         "Wisconsin",
         "51320",
         "Complex",
         "Rain",
         "1.4622314622314623"
        ],
        [
         "24",
         "194",
         "8/19/07",
         "Not Known",
         "United States",
         "Wisconsin",
         "51320",
         "Mudslide",
         "Rain",
         "1.4622314622314623"
        ],
        [
         "25",
         "197",
         "8/20/07",
         "Not Known",
         "United States",
         "West Virginia",
         "1526",
         "Mudslide",
         "Rain",
         "1.4622314622314623"
        ],
        [
         "26",
         "198",
         "8/21/07",
         "Not Known",
         "Guatemala",
         "Alta Verapaz",
         "2006",
         "Landslide",
         "Tropical cyclone",
         "1.4622314622314623"
        ],
        [
         "27",
         "199",
         "8/21/07",
         "Not Known",
         "Guatemala",
         "Izabal",
         "18994",
         "Landslide",
         "Tropical cyclone",
         "1.4622314622314623"
        ],
        [
         "28",
         "201",
         "8/23/07",
         "Not Known",
         "Mexico",
         "Puebla",
         "1414",
         "Mudslide",
         "Tropical cyclone",
         "6.0"
        ],
        [
         "29",
         "224",
         "9/1/07",
         "Not Known",
         "Trinidad and Tobago",
         "Tobago",
         "17000",
         "Landslide",
         "Tropical cyclone",
         "1.4622314622314623"
        ],
        [
         "30",
         "225",
         "9/2/07",
         "Not Known",
         "Mexico",
         "Sinaloa",
         "3191",
         "Complex",
         "Tropical cyclone",
         "3.0"
        ],
        [
         "31",
         "228",
         "9/3/07",
         "Not Known",
         "United States",
         "New Mexico",
         "1788",
         "Mudslide",
         "Rain",
         "1.4622314622314623"
        ],
        [
         "32",
         "229",
         "9/4/07",
         "Not Known",
         "Nicaragua",
         "Atlántico Norte",
         "6315",
         "Complex",
         "Tropical cyclone",
         "1.4622314622314623"
        ],
        [
         "33",
         "230",
         "9/5/07",
         "Not Known",
         "El Salvador",
         "Ahuachapán",
         "7797",
         "Mudslide",
         "Tropical cyclone",
         "1.4622314622314623"
        ],
        [
         "34",
         "235",
         "9/5/07",
         "Not Known",
         "United States",
         "Wyoming",
         "1176",
         "Landslide",
         "Rain",
         "1.4622314622314623"
        ],
        [
         "35",
         "236",
         "9/5/07",
         "Not Known",
         "United States",
         "Idaho",
         "2689",
         "Mudslide",
         "Rain",
         "1.4622314622314623"
        ],
        [
         "36",
         "238",
         "9/6/07",
         "Not Known",
         "United States",
         "Colorado",
         "12088",
         "Mudslide",
         "Rain",
         "1.4622314622314623"
        ],
        [
         "37",
         "249",
         "9/9/07",
         "Not Known",
         "Costa Rica",
         "Heredia",
         "21947",
         "Landslide",
         "Rain",
         "1.4622314622314623"
        ],
        [
         "38",
         "250",
         "9/9/07",
         "Not Known",
         "Dominica",
         "Saint George",
         "16571",
         "Landslide",
         "Rain",
         "1.4622314622314623"
        ],
        [
         "39",
         "268",
         "9/17/07",
         "Not Known",
         "United States",
         "Colorado",
         "4518",
         "Mudslide",
         "Rain",
         "1.4622314622314623"
        ],
        [
         "40",
         "277",
         "9/22/07",
         "Not Known",
         "Guatemala",
         "Guatemala",
         "994938",
         "Mudslide",
         "Rain",
         "3.0"
        ],
        [
         "41",
         "284",
         "9/28/07",
         "Not Known",
         "Mexico",
         "Puebla",
         "3761",
         "Mudslide",
         "Tropical cyclone",
         "1.0"
        ],
        [
         "42",
         "297",
         "10/8/07",
         "Not Known",
         "Haiti",
         "Artibonite",
         "7294",
         "Landslide",
         "Downpour",
         "1.4622314622314623"
        ],
        [
         "43",
         "299",
         "10/9/07",
         "Not Known",
         "Costa Rica",
         "San José",
         "3072",
         "Complex",
         "Rain",
         "4.0"
        ],
        [
         "44",
         "301",
         "10/11/07",
         "Not Known",
         "Costa Rica",
         "Alajuela",
         "7014",
         "Mudslide",
         "Rain",
         "14.0"
        ],
        [
         "45",
         "302",
         "10/11/07",
         "Not Known",
         "Costa Rica",
         "San José",
         "26669",
         "Landslide",
         "Rain",
         "10.0"
        ],
        [
         "46",
         "303",
         "10/12/07",
         "Not Known",
         "Haiti",
         "Ouest",
         "3951",
         "Complex",
         "Rain",
         "23.0"
        ],
        [
         "47",
         "304",
         "10/12/07",
         "Not Known",
         "Jamaica",
         "St. Elizabeth",
         "1371",
         "Complex",
         "Rain",
         "1.4622314622314623"
        ],
        [
         "48",
         "307",
         "10/13/07",
         "Not Known",
         "Colombia",
         "Cauca",
         "9985",
         "Mudslide",
         "Continuous rain",
         "24.0"
        ],
        [
         "49",
         "314",
         "10/17/07",
         "Not Known",
         "Jamaica",
         "Saint Thomas",
         "2382",
         "Mudslide",
         "Rain",
         "1.4622314622314623"
        ]
       ],
       "shape": {
        "columns": 9,
        "rows": 1690
       }
      },
      "text/html": [
       "<div>\n",
       "<style scoped>\n",
       "    .dataframe tbody tr th:only-of-type {\n",
       "        vertical-align: middle;\n",
       "    }\n",
       "\n",
       "    .dataframe tbody tr th {\n",
       "        vertical-align: top;\n",
       "    }\n",
       "\n",
       "    .dataframe thead th {\n",
       "        text-align: right;\n",
       "    }\n",
       "</style>\n",
       "<table border=\"1\" class=\"dataframe\">\n",
       "  <thead>\n",
       "    <tr style=\"text-align: right;\">\n",
       "      <th></th>\n",
       "      <th>id</th>\n",
       "      <th>date</th>\n",
       "      <th>time</th>\n",
       "      <th>country_name</th>\n",
       "      <th>state/province</th>\n",
       "      <th>population</th>\n",
       "      <th>landslide_type</th>\n",
       "      <th>trigger</th>\n",
       "      <th>fatalities</th>\n",
       "    </tr>\n",
       "  </thead>\n",
       "  <tbody>\n",
       "    <tr>\n",
       "      <th>0</th>\n",
       "      <td>34</td>\n",
       "      <td>3/2/07</td>\n",
       "      <td>Night</td>\n",
       "      <td>United States</td>\n",
       "      <td>Virginia</td>\n",
       "      <td>16000</td>\n",
       "      <td>Landslide</td>\n",
       "      <td>Rain</td>\n",
       "      <td>1.462231</td>\n",
       "    </tr>\n",
       "    <tr>\n",
       "      <th>1</th>\n",
       "      <td>42</td>\n",
       "      <td>3/22/07</td>\n",
       "      <td>Not Known</td>\n",
       "      <td>United States</td>\n",
       "      <td>Ohio</td>\n",
       "      <td>17288</td>\n",
       "      <td>Landslide</td>\n",
       "      <td>Rain</td>\n",
       "      <td>1.462231</td>\n",
       "    </tr>\n",
       "    <tr>\n",
       "      <th>2</th>\n",
       "      <td>56</td>\n",
       "      <td>4/6/07</td>\n",
       "      <td>Not Known</td>\n",
       "      <td>United States</td>\n",
       "      <td>Pennsylvania</td>\n",
       "      <td>15930</td>\n",
       "      <td>Landslide</td>\n",
       "      <td>Rain</td>\n",
       "      <td>1.462231</td>\n",
       "    </tr>\n",
       "    <tr>\n",
       "      <th>3</th>\n",
       "      <td>59</td>\n",
       "      <td>4/14/07</td>\n",
       "      <td>Not Known</td>\n",
       "      <td>Canada</td>\n",
       "      <td>Quebec</td>\n",
       "      <td>42786</td>\n",
       "      <td>Riverbank collapse</td>\n",
       "      <td>Rain</td>\n",
       "      <td>1.462231</td>\n",
       "    </tr>\n",
       "    <tr>\n",
       "      <th>4</th>\n",
       "      <td>61</td>\n",
       "      <td>4/15/07</td>\n",
       "      <td>Not Known</td>\n",
       "      <td>United States</td>\n",
       "      <td>Kentucky</td>\n",
       "      <td>6903</td>\n",
       "      <td>Landslide</td>\n",
       "      <td>Downpour</td>\n",
       "      <td>0.000000</td>\n",
       "    </tr>\n",
       "    <tr>\n",
       "      <th>...</th>\n",
       "      <td>...</td>\n",
       "      <td>...</td>\n",
       "      <td>...</td>\n",
       "      <td>...</td>\n",
       "      <td>...</td>\n",
       "      <td>...</td>\n",
       "      <td>...</td>\n",
       "      <td>...</td>\n",
       "      <td>...</td>\n",
       "    </tr>\n",
       "    <tr>\n",
       "      <th>1688</th>\n",
       "      <td>7535</td>\n",
       "      <td>12/7/15</td>\n",
       "      <td>Not Known</td>\n",
       "      <td>United States</td>\n",
       "      <td>North Carolina</td>\n",
       "      <td>1646</td>\n",
       "      <td>Rockfall</td>\n",
       "      <td>NaN</td>\n",
       "      <td>0.000000</td>\n",
       "    </tr>\n",
       "    <tr>\n",
       "      <th>1689</th>\n",
       "      <td>7537</td>\n",
       "      <td>2/22/16</td>\n",
       "      <td>0:00</td>\n",
       "      <td>United States</td>\n",
       "      <td>West Virginia</td>\n",
       "      <td>51400</td>\n",
       "      <td>Mudslide</td>\n",
       "      <td>Unknown</td>\n",
       "      <td>0.000000</td>\n",
       "    </tr>\n",
       "    <tr>\n",
       "      <th>1690</th>\n",
       "      <td>7539</td>\n",
       "      <td>2/23/16</td>\n",
       "      <td>Not Known</td>\n",
       "      <td>United States</td>\n",
       "      <td>West Virginia</td>\n",
       "      <td>2406</td>\n",
       "      <td>Landslide</td>\n",
       "      <td>Rain</td>\n",
       "      <td>0.000000</td>\n",
       "    </tr>\n",
       "    <tr>\n",
       "      <th>1691</th>\n",
       "      <td>7540</td>\n",
       "      <td>2/26/16</td>\n",
       "      <td>21:06</td>\n",
       "      <td>United States</td>\n",
       "      <td>West Virginia</td>\n",
       "      <td>1048</td>\n",
       "      <td>Rockfall</td>\n",
       "      <td>Unknown</td>\n",
       "      <td>0.000000</td>\n",
       "    </tr>\n",
       "    <tr>\n",
       "      <th>1692</th>\n",
       "      <td>7541</td>\n",
       "      <td>3/2/16</td>\n",
       "      <td>8:00</td>\n",
       "      <td>United States</td>\n",
       "      <td>Vermont</td>\n",
       "      <td>2066</td>\n",
       "      <td>Rockfall</td>\n",
       "      <td>Unknown</td>\n",
       "      <td>0.000000</td>\n",
       "    </tr>\n",
       "  </tbody>\n",
       "</table>\n",
       "<p>1690 rows × 9 columns</p>\n",
       "</div>"
      ],
      "text/plain": [
       "        id     date       time   country_name  state/province  population  \\\n",
       "0       34   3/2/07      Night  United States        Virginia       16000   \n",
       "1       42  3/22/07  Not Known  United States            Ohio       17288   \n",
       "2       56   4/6/07  Not Known  United States    Pennsylvania       15930   \n",
       "3       59  4/14/07  Not Known         Canada          Quebec       42786   \n",
       "4       61  4/15/07  Not Known  United States        Kentucky        6903   \n",
       "...    ...      ...        ...            ...             ...         ...   \n",
       "1688  7535  12/7/15  Not Known  United States  North Carolina        1646   \n",
       "1689  7537  2/22/16       0:00  United States   West Virginia       51400   \n",
       "1690  7539  2/23/16  Not Known  United States   West Virginia        2406   \n",
       "1691  7540  2/26/16      21:06  United States   West Virginia        1048   \n",
       "1692  7541   3/2/16       8:00  United States         Vermont        2066   \n",
       "\n",
       "          landslide_type   trigger  fatalities  \n",
       "0              Landslide      Rain    1.462231  \n",
       "1              Landslide      Rain    1.462231  \n",
       "2              Landslide      Rain    1.462231  \n",
       "3     Riverbank collapse      Rain    1.462231  \n",
       "4              Landslide  Downpour    0.000000  \n",
       "...                  ...       ...         ...  \n",
       "1688            Rockfall       NaN    0.000000  \n",
       "1689            Mudslide   Unknown    0.000000  \n",
       "1690           Landslide      Rain    0.000000  \n",
       "1691            Rockfall   Unknown    0.000000  \n",
       "1692            Rockfall   Unknown    0.000000  \n",
       "\n",
       "[1690 rows x 9 columns]"
      ]
     },
     "execution_count": 135,
     "metadata": {},
     "output_type": "execute_result"
    }
   ],
   "source": [
    "df['fatalities'] = df['fatalities'].fillna(mean)\n",
    "df"
   ]
  },
  {
   "cell_type": "code",
   "execution_count": 136,
   "id": "a7960925",
   "metadata": {},
   "outputs": [
    {
     "data": {
      "text/plain": [
       "np.int64(0)"
      ]
     },
     "execution_count": 136,
     "metadata": {},
     "output_type": "execute_result"
    }
   ],
   "source": [
    "df['fatalities'].isna().sum()"
   ]
  },
  {
   "cell_type": "markdown",
   "id": "e5c11aba",
   "metadata": {},
   "source": [
    "## Date time parsing using .to_datetime()"
   ]
  },
  {
   "cell_type": "code",
   "execution_count": 137,
   "id": "87ae56f4",
   "metadata": {},
   "outputs": [
    {
     "name": "stdout",
     "output_type": "stream",
     "text": [
      "<class 'pandas.core.frame.DataFrame'>\n",
      "Index: 1690 entries, 0 to 1692\n",
      "Data columns (total 9 columns):\n",
      " #   Column          Non-Null Count  Dtype  \n",
      "---  ------          --------------  -----  \n",
      " 0   id              1690 non-null   int64  \n",
      " 1   date            1690 non-null   object \n",
      " 2   time            1690 non-null   object \n",
      " 3   country_name    1690 non-null   object \n",
      " 4   state/province  1689 non-null   object \n",
      " 5   population      1690 non-null   int64  \n",
      " 6   landslide_type  1689 non-null   object \n",
      " 7   trigger         1688 non-null   object \n",
      " 8   fatalities      1690 non-null   float64\n",
      "dtypes: float64(1), int64(2), object(6)\n",
      "memory usage: 132.0+ KB\n"
     ]
    }
   ],
   "source": [
    "df.info()"
   ]
  },
  {
   "cell_type": "code",
   "execution_count": 138,
   "id": "63ee6048",
   "metadata": {},
   "outputs": [
    {
     "data": {
      "text/plain": [
       "0        3/2/07\n",
       "1       3/22/07\n",
       "2        4/6/07\n",
       "3       4/14/07\n",
       "4       4/15/07\n",
       "         ...   \n",
       "1688    12/7/15\n",
       "1689    2/22/16\n",
       "1690    2/23/16\n",
       "1691    2/26/16\n",
       "1692     3/2/16\n",
       "Name: date, Length: 1690, dtype: object"
      ]
     },
     "execution_count": 138,
     "metadata": {},
     "output_type": "execute_result"
    }
   ],
   "source": [
    "df['date']"
   ]
  },
  {
   "cell_type": "code",
   "execution_count": 139,
   "id": "ef47ac32",
   "metadata": {},
   "outputs": [
    {
     "data": {
      "text/plain": [
       "0      2007-03-02\n",
       "1      2007-03-22\n",
       "2      2007-04-06\n",
       "3      2007-04-14\n",
       "4      2007-04-15\n",
       "          ...    \n",
       "1688   2015-12-07\n",
       "1689   2016-02-22\n",
       "1690   2016-02-23\n",
       "1691   2016-02-26\n",
       "1692   2016-03-02\n",
       "Name: parsed_date, Length: 1690, dtype: datetime64[ns]"
      ]
     },
     "execution_count": 139,
     "metadata": {},
     "output_type": "execute_result"
    }
   ],
   "source": [
    "df['parsed_date'] = pd.to_datetime(df['date'], format=\"%m/%d/%y\")\n",
    "df['parsed_date']"
   ]
  },
  {
   "cell_type": "code",
   "execution_count": 140,
   "id": "7c263a62",
   "metadata": {},
   "outputs": [
    {
     "data": {
      "text/plain": [
       "0        3\n",
       "1        3\n",
       "2        4\n",
       "3        4\n",
       "4        4\n",
       "        ..\n",
       "1688    12\n",
       "1689     2\n",
       "1690     2\n",
       "1691     2\n",
       "1692     3\n",
       "Name: parsed_date, Length: 1690, dtype: int32"
      ]
     },
     "execution_count": 140,
     "metadata": {},
     "output_type": "execute_result"
    }
   ],
   "source": [
    "month_of_lslide = df['parsed_date'].dt.month\n",
    "month_of_lslide"
   ]
  },
  {
   "cell_type": "code",
   "execution_count": 141,
   "id": "665906b3",
   "metadata": {},
   "outputs": [
    {
     "name": "stderr",
     "output_type": "stream",
     "text": [
      "/var/folders/n7/fvkdhhrx3p1dnmvdr5f9mv6h0000gp/T/ipykernel_36325/4287812100.py:4: UserWarning: \n",
      "\n",
      "`distplot` is a deprecated function and will be removed in seaborn v0.14.0.\n",
      "\n",
      "Please adapt your code to use either `displot` (a figure-level function with\n",
      "similar flexibility) or `histplot` (an axes-level function for histograms).\n",
      "\n",
      "For a guide to updating your code to use the new functions, please see\n",
      "https://gist.github.com/mwaskom/de44147ed2974457ad6372750bbe5751\n",
      "\n",
      "  sns.distplot(month_of_lslide, kde=False, bins=12)\n"
     ]
    },
    {
     "data": {
      "text/plain": [
       "<Axes: xlabel='parsed_date'>"
      ]
     },
     "execution_count": 141,
     "metadata": {},
     "output_type": "execute_result"
    },
    {
     "data": {
      "image/png": "[encoded data removed]",
      "text/plain": [
       "<Figure size 640x480 with 1 Axes>"
      ]
     },
     "metadata": {},
     "output_type": "display_data"
    }
   ],
   "source": [
    "import seaborn as sns\n",
    "\n",
    "month_of_lslide = month_of_lslide.dropna()\n",
    "sns.distplot(month_of_lslide, kde=False, bins=12)"
   ]
  },
  {
   "cell_type": "markdown",
   "id": "600a404d",
   "metadata": {},
   "source": [
    "## Correcting the data format"
   ]
  },
  {
   "cell_type": "code",
   "execution_count": 142,
   "id": "83333698",
   "metadata": {},
   "outputs": [
    {
     "data": {
      "application/vnd.microsoft.datawrangler.viewer.v0+json": {
       "columns": [
        {
         "name": "index",
         "rawType": "int64",
         "type": "integer"
        },
        {
         "name": "time",
         "rawType": "object",
         "type": "string"
        },
        {
         "name": "count",
         "rawType": "int64",
         "type": "integer"
        }
       ],
       "conversionMethod": "pd.DataFrame",
       "ref": "afa65c88-cdba-4aaf-b521-a85954d5dd53",
       "rows": [
        [
         "0",
         "Not Known",
         "1064"
        ],
        [
         "1",
         "Night",
         "97"
        ],
        [
         "2",
         "Morning",
         "87"
        ],
        [
         "3",
         "Afternoon",
         "58"
        ],
        [
         "4",
         "Early morning",
         "36"
        ],
        [
         "5",
         "3:00:00",
         "12"
        ],
        [
         "6",
         "Evening",
         "10"
        ],
        [
         "7",
         "19:00:00",
         "9"
        ],
        [
         "8",
         "evening",
         "8"
        ],
        [
         "9",
         "18:00:00",
         "8"
        ],
        [
         "10",
         "10:00:00",
         "8"
        ],
        [
         "11",
         "Late night",
         "7"
        ],
        [
         "12",
         "2:00:00",
         "7"
        ],
        [
         "13",
         "Overnight",
         "6"
        ],
        [
         "14",
         "23:30:00",
         "6"
        ],
        [
         "15",
         "15:00:00",
         "6"
        ],
        [
         "16",
         "16:00:00",
         "6"
        ],
        [
         "17",
         "5:00:00",
         "6"
        ],
        [
         "18",
         "13:00",
         "5"
        ],
        [
         "19",
         "9:30:00",
         "5"
        ],
        [
         "20",
         "2:30:00",
         "5"
        ],
        [
         "21",
         "19:30:00",
         "5"
        ],
        [
         "22",
         "12:00:00",
         "5"
        ],
        [
         "23",
         "8:00:00",
         "5"
        ],
        [
         "24",
         "6:00:00",
         "5"
        ],
        [
         "25",
         "21:00:00",
         "5"
        ],
        [
         "26",
         "21:30:00",
         "4"
        ],
        [
         "27",
         "17:30:00",
         "4"
        ],
        [
         "28",
         "15:00",
         "4"
        ],
        [
         "29",
         "4:30:00",
         "3"
        ],
        [
         "30",
         "12:00",
         "3"
        ],
        [
         "31",
         "16:30:00",
         "3"
        ],
        [
         "32",
         "11:00:00",
         "3"
        ],
        [
         "33",
         "0:00:00",
         "3"
        ],
        [
         "34",
         "16:30",
         "3"
        ],
        [
         "35",
         "4:00:00",
         "3"
        ],
        [
         "36",
         "8:30",
         "3"
        ],
        [
         "37",
         "22:30",
         "3"
        ],
        [
         "38",
         "15:30",
         "3"
        ],
        [
         "39",
         "23:00:00",
         "3"
        ],
        [
         "40",
         "2:00",
         "3"
        ],
        [
         "41",
         "20:30:00",
         "3"
        ],
        [
         "42",
         "21:30",
         "3"
        ],
        [
         "43",
         "21:00",
         "3"
        ],
        [
         "44",
         "9:00:00",
         "3"
        ],
        [
         "45",
         "3:00",
         "3"
        ],
        [
         "46",
         "13:45:00",
         "2"
        ],
        [
         "47",
         "12:30:00",
         "2"
        ],
        [
         "48",
         "overnight",
         "2"
        ],
        [
         "49",
         "14:00:00",
         "2"
        ]
       ],
       "shape": {
        "columns": 2,
        "rows": 160
       }
      },
      "text/html": [
       "<div>\n",
       "<style scoped>\n",
       "    .dataframe tbody tr th:only-of-type {\n",
       "        vertical-align: middle;\n",
       "    }\n",
       "\n",
       "    .dataframe tbody tr th {\n",
       "        vertical-align: top;\n",
       "    }\n",
       "\n",
       "    .dataframe thead th {\n",
       "        text-align: right;\n",
       "    }\n",
       "</style>\n",
       "<table border=\"1\" class=\"dataframe\">\n",
       "  <thead>\n",
       "    <tr style=\"text-align: right;\">\n",
       "      <th></th>\n",
       "      <th>time</th>\n",
       "      <th>count</th>\n",
       "    </tr>\n",
       "  </thead>\n",
       "  <tbody>\n",
       "    <tr>\n",
       "      <th>0</th>\n",
       "      <td>Not Known</td>\n",
       "      <td>1064</td>\n",
       "    </tr>\n",
       "    <tr>\n",
       "      <th>1</th>\n",
       "      <td>Night</td>\n",
       "      <td>97</td>\n",
       "    </tr>\n",
       "    <tr>\n",
       "      <th>2</th>\n",
       "      <td>Morning</td>\n",
       "      <td>87</td>\n",
       "    </tr>\n",
       "    <tr>\n",
       "      <th>3</th>\n",
       "      <td>Afternoon</td>\n",
       "      <td>58</td>\n",
       "    </tr>\n",
       "    <tr>\n",
       "      <th>4</th>\n",
       "      <td>Early morning</td>\n",
       "      <td>36</td>\n",
       "    </tr>\n",
       "    <tr>\n",
       "      <th>...</th>\n",
       "      <td>...</td>\n",
       "      <td>...</td>\n",
       "    </tr>\n",
       "    <tr>\n",
       "      <th>155</th>\n",
       "      <td>5:45</td>\n",
       "      <td>1</td>\n",
       "    </tr>\n",
       "    <tr>\n",
       "      <th>156</th>\n",
       "      <td>13:50</td>\n",
       "      <td>1</td>\n",
       "    </tr>\n",
       "    <tr>\n",
       "      <th>157</th>\n",
       "      <td>13:30</td>\n",
       "      <td>1</td>\n",
       "    </tr>\n",
       "    <tr>\n",
       "      <th>158</th>\n",
       "      <td>15:20</td>\n",
       "      <td>1</td>\n",
       "    </tr>\n",
       "    <tr>\n",
       "      <th>159</th>\n",
       "      <td>21:06</td>\n",
       "      <td>1</td>\n",
       "    </tr>\n",
       "  </tbody>\n",
       "</table>\n",
       "<p>160 rows × 2 columns</p>\n",
       "</div>"
      ],
      "text/plain": [
       "              time  count\n",
       "0        Not Known   1064\n",
       "1            Night     97\n",
       "2          Morning     87\n",
       "3        Afternoon     58\n",
       "4    Early morning     36\n",
       "..             ...    ...\n",
       "155           5:45      1\n",
       "156          13:50      1\n",
       "157          13:30      1\n",
       "158          15:20      1\n",
       "159          21:06      1\n",
       "\n",
       "[160 rows x 2 columns]"
      ]
     },
     "execution_count": 142,
     "metadata": {},
     "output_type": "execute_result"
    }
   ],
   "source": [
    "df['time'].value_counts().sort_values(ascending=False).reset_index()"
   ]
  },
  {
   "cell_type": "code",
   "execution_count": 143,
   "id": "dc6af047",
   "metadata": {},
   "outputs": [],
   "source": [
    "def classify_time(time_str):\n",
    "    # Handle missing values\n",
    "    if pd.isna(time_str):\n",
    "        return \"Not known\"\n",
    "    \n",
    "    # Standardize the input\n",
    "    time_str = time_str.strip().lower()\n",
    "    \n",
    "    # Check for descriptive keywords first\n",
    "    if \"morning\" in time_str:\n",
    "        return \"Morning\"\n",
    "    elif \"afternoon\" in time_str:\n",
    "        return \"Afternoon\"\n",
    "    elif \"evening\" in time_str:\n",
    "        return \"Evening\"\n",
    "    elif \"night\" in time_str:\n",
    "        return \"Night\"\n",
    "    \n",
    "    # If the string contains a colon, try parsing as a time using multiple formats\n",
    "    if \":\" in time_str:\n",
    "        # List of possible time formats\n",
    "        time_formats = [\"%H:%M\", \"%H:%M:%S\", \"%H:%M:%S.%f\"]\n",
    "        for fmt in time_formats:\n",
    "            try:\n",
    "                t = datetime.strptime(time_str, fmt)\n",
    "                hour = t.hour\n",
    "                # Define time ranges\n",
    "                if 5 <= hour < 12:\n",
    "                    return \"Morning\"\n",
    "                elif 12 <= hour < 17:\n",
    "                    return \"Afternoon\"\n",
    "                elif 17 <= hour < 21:\n",
    "                    return \"Evening\"\n",
    "                else:\n",
    "                    return \"Night\"\n",
    "            except ValueError:\n",
    "                continue\n",
    "        return \"Not known\"\n",
    "    \n",
    "    # Fallback for any other unhandled cases\n",
    "    return \"Not known\""
   ]
  },
  {
   "cell_type": "code",
   "execution_count": 144,
   "id": "e50095f8",
   "metadata": {},
   "outputs": [],
   "source": [
    "df['time_cleaned']= df.time.apply(lambda x: classify_time(x))"
   ]
  },
  {
   "cell_type": "code",
   "execution_count": 145,
   "id": "6ea35799",
   "metadata": {},
   "outputs": [
    {
     "data": {
      "text/plain": [
       "time_cleaned\n",
       "Not known    1068\n",
       "Night         214\n",
       "Morning       199\n",
       "Afternoon     134\n",
       "Evening        75\n",
       "Name: count, dtype: int64"
      ]
     },
     "execution_count": 145,
     "metadata": {},
     "output_type": "execute_result"
    }
   ],
   "source": [
    "df['time_cleaned'].value_counts()"
   ]
  }
 ],
 "metadata": {
  "kernelspec": {
   "display_name": ".venv",
   "language": "python",
   "name": "python3"
  },
  "language_info": {
   "codemirror_mode": {
    "name": "ipython",
    "version": 3
   },
   "file_extension": ".py",
   "mimetype": "text/x-python",
   "name": "python",
   "nbconvert_exporter": "python",
   "pygments_lexer": "ipython3",
   "version": "3.10.15"
  }
 },
 "nbformat": 4,
 "nbformat_minor": 5
}
