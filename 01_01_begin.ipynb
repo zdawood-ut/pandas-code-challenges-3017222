{
 "cells": [
  {
   "cell_type": "markdown",
   "id": "607e901f",
   "metadata": {},
   "source": [
    "## Read data from the CSV file "
   ]
  },
  {
   "cell_type": "code",
   "execution_count": 22,
   "id": "88ff8385",
   "metadata": {},
   "outputs": [],
   "source": [
    "import pandas as pd\n",
    "import matplotlib.pyplot as plt"
   ]
  },
  {
   "cell_type": "code",
   "execution_count": 2,
   "id": "2b95286f",
   "metadata": {},
   "outputs": [],
   "source": [
    "df = pd.read_csv('/Users/zdawood/Documents/pandas-code-challenges-3017222/data/auto_mpg.csv',\n",
    "                 names=['MPG', 'Cylinders', 'Displacement', 'Horsepower', 'Weight', 'Acceleration', 'Model Year', 'Origin'])"
   ]
  },
  {
   "cell_type": "code",
   "execution_count": 4,
   "id": "0a6e5eb8",
   "metadata": {},
   "outputs": [
    {
     "data": {
      "application/vnd.microsoft.datawrangler.viewer.v0+json": {
       "columns": [
        {
         "name": "index",
         "rawType": "int64",
         "type": "integer"
        },
        {
         "name": "MPG",
         "rawType": "float64",
         "type": "float"
        },
        {
         "name": "Cylinders",
         "rawType": "int64",
         "type": "integer"
        },
        {
         "name": "Displacement",
         "rawType": "float64",
         "type": "float"
        },
        {
         "name": "Horsepower",
         "rawType": "float64",
         "type": "float"
        },
        {
         "name": "Weight",
         "rawType": "float64",
         "type": "float"
        },
        {
         "name": "Acceleration",
         "rawType": "float64",
         "type": "float"
        },
        {
         "name": "Model Year",
         "rawType": "int64",
         "type": "integer"
        },
        {
         "name": "Origin",
         "rawType": "object",
         "type": "string"
        }
       ],
       "conversionMethod": "pd.DataFrame",
       "ref": "34957233-efe0-40f2-8b59-817121dbdfc7",
       "rows": [
        [
         "0",
         "0.0",
         "1",
         "2.0",
         "3.0",
         "4.0",
         "5.0",
         "6",
         "7"
        ],
        [
         "1",
         "18.0",
         "8",
         "307.0",
         "130.0",
         "3504.0",
         "12.0",
         "70",
         "India"
        ],
        [
         "2",
         "15.0",
         "8",
         "350.0",
         "165.0",
         "3693.0",
         "11.5",
         "70",
         "India"
        ],
        [
         "3",
         "18.0",
         "8",
         "318.0",
         "150.0",
         "3436.0",
         "11.0",
         "70",
         "India"
        ],
        [
         "4",
         "16.0",
         "8",
         "304.0",
         "150.0",
         "3433.0",
         "12.0",
         "70",
         "India"
        ],
        [
         "5",
         "17.0",
         "8",
         "302.0",
         "140.0",
         "3449.0",
         "10.5",
         "70",
         "India"
        ],
        [
         "6",
         "15.0",
         "8",
         "429.0",
         "198.0",
         "4341.0",
         "10.0",
         "70",
         "India"
        ],
        [
         "7",
         "14.0",
         "8",
         "454.0",
         "220.0",
         "4354.0",
         "9.0",
         "70",
         "India"
        ],
        [
         "8",
         "14.0",
         "8",
         "440.0",
         "215.0",
         "4312.0",
         "8.5",
         "70",
         "India"
        ],
        [
         "9",
         "14.0",
         "8",
         "455.0",
         "225.0",
         "4425.0",
         "10.0",
         "70",
         "India"
        ]
       ],
       "shape": {
        "columns": 8,
        "rows": 10
       }
      },
      "text/html": [
       "<div>\n",
       "<style scoped>\n",
       "    .dataframe tbody tr th:only-of-type {\n",
       "        vertical-align: middle;\n",
       "    }\n",
       "\n",
       "    .dataframe tbody tr th {\n",
       "        vertical-align: top;\n",
       "    }\n",
       "\n",
       "    .dataframe thead th {\n",
       "        text-align: right;\n",
       "    }\n",
       "</style>\n",
       "<table border=\"1\" class=\"dataframe\">\n",
       "  <thead>\n",
       "    <tr style=\"text-align: right;\">\n",
       "      <th></th>\n",
       "      <th>MPG</th>\n",
       "      <th>Cylinders</th>\n",
       "      <th>Displacement</th>\n",
       "      <th>Horsepower</th>\n",
       "      <th>Weight</th>\n",
       "      <th>Acceleration</th>\n",
       "      <th>Model Year</th>\n",
       "      <th>Origin</th>\n",
       "    </tr>\n",
       "  </thead>\n",
       "  <tbody>\n",
       "    <tr>\n",
       "      <th>0</th>\n",
       "      <td>0.0</td>\n",
       "      <td>1</td>\n",
       "      <td>2.0</td>\n",
       "      <td>3.0</td>\n",
       "      <td>4.0</td>\n",
       "      <td>5.0</td>\n",
       "      <td>6</td>\n",
       "      <td>7</td>\n",
       "    </tr>\n",
       "    <tr>\n",
       "      <th>1</th>\n",
       "      <td>18.0</td>\n",
       "      <td>8</td>\n",
       "      <td>307.0</td>\n",
       "      <td>130.0</td>\n",
       "      <td>3504.0</td>\n",
       "      <td>12.0</td>\n",
       "      <td>70</td>\n",
       "      <td>India</td>\n",
       "    </tr>\n",
       "    <tr>\n",
       "      <th>2</th>\n",
       "      <td>15.0</td>\n",
       "      <td>8</td>\n",
       "      <td>350.0</td>\n",
       "      <td>165.0</td>\n",
       "      <td>3693.0</td>\n",
       "      <td>11.5</td>\n",
       "      <td>70</td>\n",
       "      <td>India</td>\n",
       "    </tr>\n",
       "    <tr>\n",
       "      <th>3</th>\n",
       "      <td>18.0</td>\n",
       "      <td>8</td>\n",
       "      <td>318.0</td>\n",
       "      <td>150.0</td>\n",
       "      <td>3436.0</td>\n",
       "      <td>11.0</td>\n",
       "      <td>70</td>\n",
       "      <td>India</td>\n",
       "    </tr>\n",
       "    <tr>\n",
       "      <th>4</th>\n",
       "      <td>16.0</td>\n",
       "      <td>8</td>\n",
       "      <td>304.0</td>\n",
       "      <td>150.0</td>\n",
       "      <td>3433.0</td>\n",
       "      <td>12.0</td>\n",
       "      <td>70</td>\n",
       "      <td>India</td>\n",
       "    </tr>\n",
       "    <tr>\n",
       "      <th>5</th>\n",
       "      <td>17.0</td>\n",
       "      <td>8</td>\n",
       "      <td>302.0</td>\n",
       "      <td>140.0</td>\n",
       "      <td>3449.0</td>\n",
       "      <td>10.5</td>\n",
       "      <td>70</td>\n",
       "      <td>India</td>\n",
       "    </tr>\n",
       "    <tr>\n",
       "      <th>6</th>\n",
       "      <td>15.0</td>\n",
       "      <td>8</td>\n",
       "      <td>429.0</td>\n",
       "      <td>198.0</td>\n",
       "      <td>4341.0</td>\n",
       "      <td>10.0</td>\n",
       "      <td>70</td>\n",
       "      <td>India</td>\n",
       "    </tr>\n",
       "    <tr>\n",
       "      <th>7</th>\n",
       "      <td>14.0</td>\n",
       "      <td>8</td>\n",
       "      <td>454.0</td>\n",
       "      <td>220.0</td>\n",
       "      <td>4354.0</td>\n",
       "      <td>9.0</td>\n",
       "      <td>70</td>\n",
       "      <td>India</td>\n",
       "    </tr>\n",
       "    <tr>\n",
       "      <th>8</th>\n",
       "      <td>14.0</td>\n",
       "      <td>8</td>\n",
       "      <td>440.0</td>\n",
       "      <td>215.0</td>\n",
       "      <td>4312.0</td>\n",
       "      <td>8.5</td>\n",
       "      <td>70</td>\n",
       "      <td>India</td>\n",
       "    </tr>\n",
       "    <tr>\n",
       "      <th>9</th>\n",
       "      <td>14.0</td>\n",
       "      <td>8</td>\n",
       "      <td>455.0</td>\n",
       "      <td>225.0</td>\n",
       "      <td>4425.0</td>\n",
       "      <td>10.0</td>\n",
       "      <td>70</td>\n",
       "      <td>India</td>\n",
       "    </tr>\n",
       "  </tbody>\n",
       "</table>\n",
       "</div>"
      ],
      "text/plain": [
       "    MPG  Cylinders  Displacement  Horsepower  Weight  Acceleration  \\\n",
       "0   0.0          1           2.0         3.0     4.0           5.0   \n",
       "1  18.0          8         307.0       130.0  3504.0          12.0   \n",
       "2  15.0          8         350.0       165.0  3693.0          11.5   \n",
       "3  18.0          8         318.0       150.0  3436.0          11.0   \n",
       "4  16.0          8         304.0       150.0  3433.0          12.0   \n",
       "5  17.0          8         302.0       140.0  3449.0          10.5   \n",
       "6  15.0          8         429.0       198.0  4341.0          10.0   \n",
       "7  14.0          8         454.0       220.0  4354.0           9.0   \n",
       "8  14.0          8         440.0       215.0  4312.0           8.5   \n",
       "9  14.0          8         455.0       225.0  4425.0          10.0   \n",
       "\n",
       "   Model Year Origin  \n",
       "0           6      7  \n",
       "1          70  India  \n",
       "2          70  India  \n",
       "3          70  India  \n",
       "4          70  India  \n",
       "5          70  India  \n",
       "6          70  India  \n",
       "7          70  India  \n",
       "8          70  India  \n",
       "9          70  India  "
      ]
     },
     "execution_count": 4,
     "metadata": {},
     "output_type": "execute_result"
    }
   ],
   "source": [
    "df.head(10)"
   ]
  },
  {
   "cell_type": "markdown",
   "id": "b3b93a10",
   "metadata": {},
   "source": [
    "## Initial exploration of the data"
   ]
  },
  {
   "cell_type": "code",
   "execution_count": 5,
   "id": "9bcc9510",
   "metadata": {},
   "outputs": [
    {
     "name": "stdout",
     "output_type": "stream",
     "text": [
      "<class 'pandas.core.frame.DataFrame'>\n",
      "RangeIndex: 399 entries, 0 to 398\n",
      "Data columns (total 8 columns):\n",
      " #   Column        Non-Null Count  Dtype  \n",
      "---  ------        --------------  -----  \n",
      " 0   MPG           399 non-null    float64\n",
      " 1   Cylinders     399 non-null    int64  \n",
      " 2   Displacement  399 non-null    float64\n",
      " 3   Horsepower    393 non-null    float64\n",
      " 4   Weight        399 non-null    float64\n",
      " 5   Acceleration  399 non-null    float64\n",
      " 6   Model Year    399 non-null    int64  \n",
      " 7   Origin        399 non-null    object \n",
      "dtypes: float64(5), int64(2), object(1)\n",
      "memory usage: 25.1+ KB\n"
     ]
    }
   ],
   "source": [
    "df.info()"
   ]
  },
  {
   "cell_type": "code",
   "execution_count": 6,
   "id": "36eb7074",
   "metadata": {},
   "outputs": [
    {
     "data": {
      "text/plain": [
       "(399, 8)"
      ]
     },
     "execution_count": 6,
     "metadata": {},
     "output_type": "execute_result"
    }
   ],
   "source": [
    "df.shape"
   ]
  },
  {
   "cell_type": "code",
   "execution_count": 7,
   "id": "1feb8ea3",
   "metadata": {},
   "outputs": [
    {
     "data": {
      "text/plain": [
       "RangeIndex(start=0, stop=399, step=1)"
      ]
     },
     "execution_count": 7,
     "metadata": {},
     "output_type": "execute_result"
    }
   ],
   "source": [
    "df.index"
   ]
  },
  {
   "cell_type": "code",
   "execution_count": 8,
   "id": "fa373dab",
   "metadata": {},
   "outputs": [
    {
     "data": {
      "application/vnd.microsoft.datawrangler.viewer.v0+json": {
       "columns": [
        {
         "name": "index",
         "rawType": "object",
         "type": "string"
        },
        {
         "name": "MPG",
         "rawType": "float64",
         "type": "float"
        },
        {
         "name": "Cylinders",
         "rawType": "float64",
         "type": "float"
        },
        {
         "name": "Displacement",
         "rawType": "float64",
         "type": "float"
        },
        {
         "name": "Horsepower",
         "rawType": "float64",
         "type": "float"
        },
        {
         "name": "Weight",
         "rawType": "float64",
         "type": "float"
        },
        {
         "name": "Acceleration",
         "rawType": "float64",
         "type": "float"
        },
        {
         "name": "Model Year",
         "rawType": "float64",
         "type": "float"
        }
       ],
       "conversionMethod": "pd.DataFrame",
       "ref": "25ffcc8f-3563-4b41-952a-618196d70220",
       "rows": [
        [
         "count",
         "399.0",
         "399.0",
         "399.0",
         "393.0",
         "399.0",
         "399.0",
         "399.0"
        ],
        [
         "mean",
         "23.45563909774436",
         "5.443609022556391",
         "192.94611528822054",
         "104.21119592875318",
         "2962.9899749373435",
         "15.541604010025061",
         "75.83458646616542"
        ],
        [
         "std",
         "7.894423451922662",
         "1.7134416884203796",
         "104.57878052154562",
         "38.78128989293656",
         "858.7161650746724",
         "2.804576918546571",
         "5.091396503780751"
        ],
        [
         "min",
         "0.0",
         "1.0",
         "2.0",
         "3.0",
         "4.0",
         "5.0",
         "6.0"
        ],
        [
         "25%",
         "17.25",
         "4.0",
         "102.5",
         "75.0",
         "2221.5",
         "13.8",
         "73.0"
        ],
        [
         "50%",
         "23.0",
         "4.0",
         "146.0",
         "93.0",
         "2800.0",
         "15.5",
         "76.0"
        ],
        [
         "75%",
         "29.0",
         "8.0",
         "262.0",
         "125.0",
         "3607.0",
         "17.15",
         "79.0"
        ],
        [
         "max",
         "46.6",
         "8.0",
         "455.0",
         "230.0",
         "5140.0",
         "24.8",
         "82.0"
        ]
       ],
       "shape": {
        "columns": 7,
        "rows": 8
       }
      },
      "text/html": [
       "<div>\n",
       "<style scoped>\n",
       "    .dataframe tbody tr th:only-of-type {\n",
       "        vertical-align: middle;\n",
       "    }\n",
       "\n",
       "    .dataframe tbody tr th {\n",
       "        vertical-align: top;\n",
       "    }\n",
       "\n",
       "    .dataframe thead th {\n",
       "        text-align: right;\n",
       "    }\n",
       "</style>\n",
       "<table border=\"1\" class=\"dataframe\">\n",
       "  <thead>\n",
       "    <tr style=\"text-align: right;\">\n",
       "      <th></th>\n",
       "      <th>MPG</th>\n",
       "      <th>Cylinders</th>\n",
       "      <th>Displacement</th>\n",
       "      <th>Horsepower</th>\n",
       "      <th>Weight</th>\n",
       "      <th>Acceleration</th>\n",
       "      <th>Model Year</th>\n",
       "    </tr>\n",
       "  </thead>\n",
       "  <tbody>\n",
       "    <tr>\n",
       "      <th>count</th>\n",
       "      <td>399.000000</td>\n",
       "      <td>399.000000</td>\n",
       "      <td>399.000000</td>\n",
       "      <td>393.000000</td>\n",
       "      <td>399.000000</td>\n",
       "      <td>399.000000</td>\n",
       "      <td>399.000000</td>\n",
       "    </tr>\n",
       "    <tr>\n",
       "      <th>mean</th>\n",
       "      <td>23.455639</td>\n",
       "      <td>5.443609</td>\n",
       "      <td>192.946115</td>\n",
       "      <td>104.211196</td>\n",
       "      <td>2962.989975</td>\n",
       "      <td>15.541604</td>\n",
       "      <td>75.834586</td>\n",
       "    </tr>\n",
       "    <tr>\n",
       "      <th>std</th>\n",
       "      <td>7.894423</td>\n",
       "      <td>1.713442</td>\n",
       "      <td>104.578781</td>\n",
       "      <td>38.781290</td>\n",
       "      <td>858.716165</td>\n",
       "      <td>2.804577</td>\n",
       "      <td>5.091397</td>\n",
       "    </tr>\n",
       "    <tr>\n",
       "      <th>min</th>\n",
       "      <td>0.000000</td>\n",
       "      <td>1.000000</td>\n",
       "      <td>2.000000</td>\n",
       "      <td>3.000000</td>\n",
       "      <td>4.000000</td>\n",
       "      <td>5.000000</td>\n",
       "      <td>6.000000</td>\n",
       "    </tr>\n",
       "    <tr>\n",
       "      <th>25%</th>\n",
       "      <td>17.250000</td>\n",
       "      <td>4.000000</td>\n",
       "      <td>102.500000</td>\n",
       "      <td>75.000000</td>\n",
       "      <td>2221.500000</td>\n",
       "      <td>13.800000</td>\n",
       "      <td>73.000000</td>\n",
       "    </tr>\n",
       "    <tr>\n",
       "      <th>50%</th>\n",
       "      <td>23.000000</td>\n",
       "      <td>4.000000</td>\n",
       "      <td>146.000000</td>\n",
       "      <td>93.000000</td>\n",
       "      <td>2800.000000</td>\n",
       "      <td>15.500000</td>\n",
       "      <td>76.000000</td>\n",
       "    </tr>\n",
       "    <tr>\n",
       "      <th>75%</th>\n",
       "      <td>29.000000</td>\n",
       "      <td>8.000000</td>\n",
       "      <td>262.000000</td>\n",
       "      <td>125.000000</td>\n",
       "      <td>3607.000000</td>\n",
       "      <td>17.150000</td>\n",
       "      <td>79.000000</td>\n",
       "    </tr>\n",
       "    <tr>\n",
       "      <th>max</th>\n",
       "      <td>46.600000</td>\n",
       "      <td>8.000000</td>\n",
       "      <td>455.000000</td>\n",
       "      <td>230.000000</td>\n",
       "      <td>5140.000000</td>\n",
       "      <td>24.800000</td>\n",
       "      <td>82.000000</td>\n",
       "    </tr>\n",
       "  </tbody>\n",
       "</table>\n",
       "</div>"
      ],
      "text/plain": [
       "              MPG   Cylinders  Displacement  Horsepower       Weight  \\\n",
       "count  399.000000  399.000000    399.000000  393.000000   399.000000   \n",
       "mean    23.455639    5.443609    192.946115  104.211196  2962.989975   \n",
       "std      7.894423    1.713442    104.578781   38.781290   858.716165   \n",
       "min      0.000000    1.000000      2.000000    3.000000     4.000000   \n",
       "25%     17.250000    4.000000    102.500000   75.000000  2221.500000   \n",
       "50%     23.000000    4.000000    146.000000   93.000000  2800.000000   \n",
       "75%     29.000000    8.000000    262.000000  125.000000  3607.000000   \n",
       "max     46.600000    8.000000    455.000000  230.000000  5140.000000   \n",
       "\n",
       "       Acceleration  Model Year  \n",
       "count    399.000000  399.000000  \n",
       "mean      15.541604   75.834586  \n",
       "std        2.804577    5.091397  \n",
       "min        5.000000    6.000000  \n",
       "25%       13.800000   73.000000  \n",
       "50%       15.500000   76.000000  \n",
       "75%       17.150000   79.000000  \n",
       "max       24.800000   82.000000  "
      ]
     },
     "execution_count": 8,
     "metadata": {},
     "output_type": "execute_result"
    }
   ],
   "source": [
    "df.describe()"
   ]
  },
  {
   "cell_type": "code",
   "execution_count": 35,
   "id": "ce4ff1f8",
   "metadata": {},
   "outputs": [
    {
     "data": {
      "application/vnd.microsoft.datawrangler.viewer.v0+json": {
       "columns": [
        {
         "name": "index",
         "rawType": "object",
         "type": "string"
        },
        {
         "name": "Origin",
         "rawType": "object",
         "type": "unknown"
        }
       ],
       "conversionMethod": "pd.DataFrame",
       "ref": "7653c670-80fc-464b-ae7a-6b09850e7b24",
       "rows": [
        [
         "count",
         "399"
        ],
        [
         "unique",
         "4"
        ],
        [
         "top",
         "India"
        ],
        [
         "freq",
         "249"
        ]
       ],
       "shape": {
        "columns": 1,
        "rows": 4
       }
      },
      "text/html": [
       "<div>\n",
       "<style scoped>\n",
       "    .dataframe tbody tr th:only-of-type {\n",
       "        vertical-align: middle;\n",
       "    }\n",
       "\n",
       "    .dataframe tbody tr th {\n",
       "        vertical-align: top;\n",
       "    }\n",
       "\n",
       "    .dataframe thead th {\n",
       "        text-align: right;\n",
       "    }\n",
       "</style>\n",
       "<table border=\"1\" class=\"dataframe\">\n",
       "  <thead>\n",
       "    <tr style=\"text-align: right;\">\n",
       "      <th></th>\n",
       "      <th>Origin</th>\n",
       "    </tr>\n",
       "  </thead>\n",
       "  <tbody>\n",
       "    <tr>\n",
       "      <th>count</th>\n",
       "      <td>399</td>\n",
       "    </tr>\n",
       "    <tr>\n",
       "      <th>unique</th>\n",
       "      <td>4</td>\n",
       "    </tr>\n",
       "    <tr>\n",
       "      <th>top</th>\n",
       "      <td>India</td>\n",
       "    </tr>\n",
       "    <tr>\n",
       "      <th>freq</th>\n",
       "      <td>249</td>\n",
       "    </tr>\n",
       "  </tbody>\n",
       "</table>\n",
       "</div>"
      ],
      "text/plain": [
       "       Origin\n",
       "count     399\n",
       "unique      4\n",
       "top     India\n",
       "freq      249"
      ]
     },
     "execution_count": 35,
     "metadata": {},
     "output_type": "execute_result"
    }
   ],
   "source": [
    "df.describe(include='object')"
   ]
  },
  {
   "cell_type": "code",
   "execution_count": 37,
   "id": "a1bdd6b7",
   "metadata": {},
   "outputs": [
    {
     "data": {
      "text/plain": [
       "array(['7', 'India', 'Germany', 'USA'], dtype=object)"
      ]
     },
     "execution_count": 37,
     "metadata": {},
     "output_type": "execute_result"
    }
   ],
   "source": [
    "df.Origin.unique()"
   ]
  },
  {
   "cell_type": "code",
   "execution_count": 40,
   "id": "d07bb525",
   "metadata": {},
   "outputs": [
    {
     "data": {
      "text/plain": [
       "<Axes: xlabel='Origin'>"
      ]
     },
     "execution_count": 40,
     "metadata": {},
     "output_type": "execute_result"
    },
    {
     "data": {
      "image/png": "[encoded data removed]",
      "text/plain": [
       "<Figure size 640x480 with 1 Axes>"
      ]
     },
     "metadata": {},
     "output_type": "display_data"
    }
   ],
   "source": [
    "df['Origin'].value_counts().plot(kind='bar')"
   ]
  },
  {
   "cell_type": "markdown",
   "id": "88d5e97a",
   "metadata": {},
   "source": [
    "## Create new features from existing ones"
   ]
  },
  {
   "cell_type": "code",
   "execution_count": 42,
   "id": "4f8bdbdd",
   "metadata": {},
   "outputs": [],
   "source": [
    "df['Displacement_per_unit_power'] = df['Displacement'] / df['Horsepower']\n",
    "\n",
    "df['Weight_per_cylinder'] = df['Weight'] / df['Cylinders']  \n",
    "\n",
    "df['Acceleration_per_unit_power'] = df['Acceleration'] / df['Horsepower']"
   ]
  },
  {
   "cell_type": "code",
   "execution_count": 43,
   "id": "9e2c773b",
   "metadata": {},
   "outputs": [
    {
     "data": {
      "application/vnd.microsoft.datawrangler.viewer.v0+json": {
       "columns": [
        {
         "name": "index",
         "rawType": "int64",
         "type": "integer"
        },
        {
         "name": "MPG",
         "rawType": "float64",
         "type": "float"
        },
        {
         "name": "Cylinders",
         "rawType": "int64",
         "type": "integer"
        },
        {
         "name": "Displacement",
         "rawType": "float64",
         "type": "float"
        },
        {
         "name": "Horsepower",
         "rawType": "float64",
         "type": "float"
        },
        {
         "name": "Weight",
         "rawType": "float64",
         "type": "float"
        },
        {
         "name": "Acceleration",
         "rawType": "float64",
         "type": "float"
        },
        {
         "name": "Model Year",
         "rawType": "int64",
         "type": "integer"
        },
        {
         "name": "Origin",
         "rawType": "object",
         "type": "string"
        },
        {
         "name": "Displacement_per_unit_power",
         "rawType": "float64",
         "type": "float"
        },
        {
         "name": "Weight_per_cylinder",
         "rawType": "float64",
         "type": "float"
        },
        {
         "name": "Acceleration_per_unit_power",
         "rawType": "float64",
         "type": "float"
        }
       ],
       "conversionMethod": "pd.DataFrame",
       "ref": "d3e621ec-92d8-4f5b-bb73-9950b2bc5078",
       "rows": [
        [
         "0",
         "0.0",
         "1",
         "2.0",
         "3.0",
         "4.0",
         "5.0",
         "6",
         "7",
         "0.6666666666666666",
         "4.0",
         "1.6666666666666667"
        ],
        [
         "1",
         "18.0",
         "8",
         "307.0",
         "130.0",
         "3504.0",
         "12.0",
         "70",
         "India",
         "2.3615384615384616",
         "438.0",
         "0.09230769230769231"
        ],
        [
         "2",
         "15.0",
         "8",
         "350.0",
         "165.0",
         "3693.0",
         "11.5",
         "70",
         "India",
         "2.121212121212121",
         "461.625",
         "0.0696969696969697"
        ],
        [
         "3",
         "18.0",
         "8",
         "318.0",
         "150.0",
         "3436.0",
         "11.0",
         "70",
         "India",
         "2.12",
         "429.5",
         "0.07333333333333333"
        ],
        [
         "4",
         "16.0",
         "8",
         "304.0",
         "150.0",
         "3433.0",
         "12.0",
         "70",
         "India",
         "2.026666666666667",
         "429.125",
         "0.08"
        ],
        [
         "5",
         "17.0",
         "8",
         "302.0",
         "140.0",
         "3449.0",
         "10.5",
         "70",
         "India",
         "2.157142857142857",
         "431.125",
         "0.075"
        ],
        [
         "6",
         "15.0",
         "8",
         "429.0",
         "198.0",
         "4341.0",
         "10.0",
         "70",
         "India",
         "2.1666666666666665",
         "542.625",
         "0.050505050505050504"
        ],
        [
         "7",
         "14.0",
         "8",
         "454.0",
         "220.0",
         "4354.0",
         "9.0",
         "70",
         "India",
         "2.0636363636363635",
         "544.25",
         "0.04090909090909091"
        ],
        [
         "8",
         "14.0",
         "8",
         "440.0",
         "215.0",
         "4312.0",
         "8.5",
         "70",
         "India",
         "2.046511627906977",
         "539.0",
         "0.03953488372093023"
        ],
        [
         "9",
         "14.0",
         "8",
         "455.0",
         "225.0",
         "4425.0",
         "10.0",
         "70",
         "India",
         "2.022222222222222",
         "553.125",
         "0.044444444444444446"
        ]
       ],
       "shape": {
        "columns": 11,
        "rows": 10
       }
      },
      "text/html": [
       "<div>\n",
       "<style scoped>\n",
       "    .dataframe tbody tr th:only-of-type {\n",
       "        vertical-align: middle;\n",
       "    }\n",
       "\n",
       "    .dataframe tbody tr th {\n",
       "        vertical-align: top;\n",
       "    }\n",
       "\n",
       "    .dataframe thead th {\n",
       "        text-align: right;\n",
       "    }\n",
       "</style>\n",
       "<table border=\"1\" class=\"dataframe\">\n",
       "  <thead>\n",
       "    <tr style=\"text-align: right;\">\n",
       "      <th></th>\n",
       "      <th>MPG</th>\n",
       "      <th>Cylinders</th>\n",
       "      <th>Displacement</th>\n",
       "      <th>Horsepower</th>\n",
       "      <th>Weight</th>\n",
       "      <th>Acceleration</th>\n",
       "      <th>Model Year</th>\n",
       "      <th>Origin</th>\n",
       "      <th>Displacement_per_unit_power</th>\n",
       "      <th>Weight_per_cylinder</th>\n",
       "      <th>Acceleration_per_unit_power</th>\n",
       "    </tr>\n",
       "  </thead>\n",
       "  <tbody>\n",
       "    <tr>\n",
       "      <th>0</th>\n",
       "      <td>0.0</td>\n",
       "      <td>1</td>\n",
       "      <td>2.0</td>\n",
       "      <td>3.0</td>\n",
       "      <td>4.0</td>\n",
       "      <td>5.0</td>\n",
       "      <td>6</td>\n",
       "      <td>7</td>\n",
       "      <td>0.666667</td>\n",
       "      <td>4.000</td>\n",
       "      <td>1.666667</td>\n",
       "    </tr>\n",
       "    <tr>\n",
       "      <th>1</th>\n",
       "      <td>18.0</td>\n",
       "      <td>8</td>\n",
       "      <td>307.0</td>\n",
       "      <td>130.0</td>\n",
       "      <td>3504.0</td>\n",
       "      <td>12.0</td>\n",
       "      <td>70</td>\n",
       "      <td>India</td>\n",
       "      <td>2.361538</td>\n",
       "      <td>438.000</td>\n",
       "      <td>0.092308</td>\n",
       "    </tr>\n",
       "    <tr>\n",
       "      <th>2</th>\n",
       "      <td>15.0</td>\n",
       "      <td>8</td>\n",
       "      <td>350.0</td>\n",
       "      <td>165.0</td>\n",
       "      <td>3693.0</td>\n",
       "      <td>11.5</td>\n",
       "      <td>70</td>\n",
       "      <td>India</td>\n",
       "      <td>2.121212</td>\n",
       "      <td>461.625</td>\n",
       "      <td>0.069697</td>\n",
       "    </tr>\n",
       "    <tr>\n",
       "      <th>3</th>\n",
       "      <td>18.0</td>\n",
       "      <td>8</td>\n",
       "      <td>318.0</td>\n",
       "      <td>150.0</td>\n",
       "      <td>3436.0</td>\n",
       "      <td>11.0</td>\n",
       "      <td>70</td>\n",
       "      <td>India</td>\n",
       "      <td>2.120000</td>\n",
       "      <td>429.500</td>\n",
       "      <td>0.073333</td>\n",
       "    </tr>\n",
       "    <tr>\n",
       "      <th>4</th>\n",
       "      <td>16.0</td>\n",
       "      <td>8</td>\n",
       "      <td>304.0</td>\n",
       "      <td>150.0</td>\n",
       "      <td>3433.0</td>\n",
       "      <td>12.0</td>\n",
       "      <td>70</td>\n",
       "      <td>India</td>\n",
       "      <td>2.026667</td>\n",
       "      <td>429.125</td>\n",
       "      <td>0.080000</td>\n",
       "    </tr>\n",
       "    <tr>\n",
       "      <th>5</th>\n",
       "      <td>17.0</td>\n",
       "      <td>8</td>\n",
       "      <td>302.0</td>\n",
       "      <td>140.0</td>\n",
       "      <td>3449.0</td>\n",
       "      <td>10.5</td>\n",
       "      <td>70</td>\n",
       "      <td>India</td>\n",
       "      <td>2.157143</td>\n",
       "      <td>431.125</td>\n",
       "      <td>0.075000</td>\n",
       "    </tr>\n",
       "    <tr>\n",
       "      <th>6</th>\n",
       "      <td>15.0</td>\n",
       "      <td>8</td>\n",
       "      <td>429.0</td>\n",
       "      <td>198.0</td>\n",
       "      <td>4341.0</td>\n",
       "      <td>10.0</td>\n",
       "      <td>70</td>\n",
       "      <td>India</td>\n",
       "      <td>2.166667</td>\n",
       "      <td>542.625</td>\n",
       "      <td>0.050505</td>\n",
       "    </tr>\n",
       "    <tr>\n",
       "      <th>7</th>\n",
       "      <td>14.0</td>\n",
       "      <td>8</td>\n",
       "      <td>454.0</td>\n",
       "      <td>220.0</td>\n",
       "      <td>4354.0</td>\n",
       "      <td>9.0</td>\n",
       "      <td>70</td>\n",
       "      <td>India</td>\n",
       "      <td>2.063636</td>\n",
       "      <td>544.250</td>\n",
       "      <td>0.040909</td>\n",
       "    </tr>\n",
       "    <tr>\n",
       "      <th>8</th>\n",
       "      <td>14.0</td>\n",
       "      <td>8</td>\n",
       "      <td>440.0</td>\n",
       "      <td>215.0</td>\n",
       "      <td>4312.0</td>\n",
       "      <td>8.5</td>\n",
       "      <td>70</td>\n",
       "      <td>India</td>\n",
       "      <td>2.046512</td>\n",
       "      <td>539.000</td>\n",
       "      <td>0.039535</td>\n",
       "    </tr>\n",
       "    <tr>\n",
       "      <th>9</th>\n",
       "      <td>14.0</td>\n",
       "      <td>8</td>\n",
       "      <td>455.0</td>\n",
       "      <td>225.0</td>\n",
       "      <td>4425.0</td>\n",
       "      <td>10.0</td>\n",
       "      <td>70</td>\n",
       "      <td>India</td>\n",
       "      <td>2.022222</td>\n",
       "      <td>553.125</td>\n",
       "      <td>0.044444</td>\n",
       "    </tr>\n",
       "  </tbody>\n",
       "</table>\n",
       "</div>"
      ],
      "text/plain": [
       "    MPG  Cylinders  Displacement  Horsepower  Weight  Acceleration  \\\n",
       "0   0.0          1           2.0         3.0     4.0           5.0   \n",
       "1  18.0          8         307.0       130.0  3504.0          12.0   \n",
       "2  15.0          8         350.0       165.0  3693.0          11.5   \n",
       "3  18.0          8         318.0       150.0  3436.0          11.0   \n",
       "4  16.0          8         304.0       150.0  3433.0          12.0   \n",
       "5  17.0          8         302.0       140.0  3449.0          10.5   \n",
       "6  15.0          8         429.0       198.0  4341.0          10.0   \n",
       "7  14.0          8         454.0       220.0  4354.0           9.0   \n",
       "8  14.0          8         440.0       215.0  4312.0           8.5   \n",
       "9  14.0          8         455.0       225.0  4425.0          10.0   \n",
       "\n",
       "   Model Year Origin  Displacement_per_unit_power  Weight_per_cylinder  \\\n",
       "0           6      7                     0.666667                4.000   \n",
       "1          70  India                     2.361538              438.000   \n",
       "2          70  India                     2.121212              461.625   \n",
       "3          70  India                     2.120000              429.500   \n",
       "4          70  India                     2.026667              429.125   \n",
       "5          70  India                     2.157143              431.125   \n",
       "6          70  India                     2.166667              542.625   \n",
       "7          70  India                     2.063636              544.250   \n",
       "8          70  India                     2.046512              539.000   \n",
       "9          70  India                     2.022222              553.125   \n",
       "\n",
       "   Acceleration_per_unit_power  \n",
       "0                     1.666667  \n",
       "1                     0.092308  \n",
       "2                     0.069697  \n",
       "3                     0.073333  \n",
       "4                     0.080000  \n",
       "5                     0.075000  \n",
       "6                     0.050505  \n",
       "7                     0.040909  \n",
       "8                     0.039535  \n",
       "9                     0.044444  "
      ]
     },
     "execution_count": 43,
     "metadata": {},
     "output_type": "execute_result"
    }
   ],
   "source": [
    "df.head(10)"
   ]
  }
 ],
 "metadata": {
  "kernelspec": {
   "display_name": ".venv",
   "language": "python",
   "name": "python3"
  },
  "language_info": {
   "codemirror_mode": {
    "name": "ipython",
    "version": 3
   },
   "file_extension": ".py",
   "mimetype": "text/x-python",
   "name": "python",
   "nbconvert_exporter": "python",
   "pygments_lexer": "ipython3",
   "version": "3.10.15"
  }
 },
 "nbformat": 4,
 "nbformat_minor": 5
}
